{
  "nbformat": 4,
  "nbformat_minor": 0,
  "metadata": {
    "colab": {
      "name": "Mine Operations Simulation using ops inputs v2.ipynb",
      "provenance": [],
      "collapsed_sections": [],
      "toc_visible": true
    },
    "kernelspec": {
      "name": "python3",
      "display_name": "Python 3"
    }
  },
  "cells": [
    {
      "cell_type": "markdown",
      "metadata": {
        "id": "kbQeL9IT-5F-"
      },
      "source": [
        "**Disclaimer: No real data! It doesn't relates to any real mine I have been involved. This is only an exercise to put in practice OOP and a few simulation concepts**\n",
        "\n",
        "This an attemp to model the operation of a mine. The geological setting is a sedimentary, flat layered deposit. It is comprised of 4 seams: overburden, seam1, seam2 and seam3. For this example seam2 is considered waste. This exercise considers that geological modeling and pit design has been completed. Volumes for the seam are unitless.\n",
        "\n",
        "The mine shift is 6 days 1, 1 day off. There is only 1 excavator on site, the number of trucks was not considered in this exercise for the sake of brevity. \n",
        "\n",
        "Daily extraction, if ore, goes to a stockpile, while waste material to a dump. Stockpile volumes was considered in this example, while dump capacity, though importan to model, was out of the scope.\n",
        "\n",
        "The stockpile feeds a plant. The plant runs 7 days a week, 365 days. Plant stops for maintenance or suddens failures were not included in the simulation.\n",
        "\n",
        "In order to run this exercise, it is considerd that the plant produces one product type. No sales of final product included, inventory is acumulated.\n",
        "\n",
        "The scope of the simulation is to investigate how long it could take the stripping, deplete the cut, how often the stockpile has no available ore and the plant is idle. The simulation stops when the silo al the plant is empty and no more ore in the ground or in the stockpile is available."
      ]
    },
    {
      "cell_type": "markdown",
      "metadata": {
        "id": "f2pkpCv1hc9V"
      },
      "source": [
        "# Connecting to Ops data\n",
        "\n",
        "Firts, let assume that the mine operation departments uses Google Sheets for data capture. These values will be used to fine tune the simulation, in order to provide a better forecasts learning from previous data.\n",
        "\n",
        "To achieve the former, data would be imported following the next piece of code shown in the example of this [link.](https://colab.research.google.com/drive/1-gYY4UsVCtldK-pXbGVi-QdBuSunljvN?usp=sharing)"
      ]
    },
    {
      "cell_type": "code",
      "metadata": {
        "id": "ZCXmmq-iikXP"
      },
      "source": [
        "!pip install --upgrade gspread"
      ],
      "execution_count": null,
      "outputs": []
    },
    {
      "cell_type": "code",
      "metadata": {
        "id": "Wpv7GMfijRWf"
      },
      "source": [
        "from google.colab import auth\n",
        "auth.authenticate_user()\n",
        "\n",
        "import gspread\n",
        "from oauth2client.client import GoogleCredentials"
      ],
      "execution_count": 29,
      "outputs": []
    },
    {
      "cell_type": "code",
      "metadata": {
        "id": "ByE7wRizTUak"
      },
      "source": [
        "gc = gspread.authorize(GoogleCredentials.get_application_default())\n",
        "\n",
        "worksheet = gc.open('DailyHaul').sheet1\n",
        "\n",
        "# get_all_values gives a list of rows.\n",
        "hauling = worksheet.get_all_values()\n",
        "\n",
        "\n",
        "# Convert to a DataFrame and render.\n",
        "import pandas as pd\n",
        "mine_prod = pd.DataFrame(hauling)\n",
        "mine_prod.columns = mine_prod.iloc[0]\n",
        "mine_prod = mine_prod.iloc[1:]"
      ],
      "execution_count": 30,
      "outputs": []
    },
    {
      "cell_type": "code",
      "metadata": {
        "colab": {
          "base_uri": "https://localhost:8080/",
          "height": 204
        },
        "id": "eRV6kb2OjzGN",
        "outputId": "9f5d8a6d-311a-421a-8c3c-7d7c7f525e25"
      },
      "source": [
        "mine_prod.head()"
      ],
      "execution_count": 31,
      "outputs": [
        {
          "output_type": "execute_result",
          "data": {
            "text/html": [
              "<div>\n",
              "<style scoped>\n",
              "    .dataframe tbody tr th:only-of-type {\n",
              "        vertical-align: middle;\n",
              "    }\n",
              "\n",
              "    .dataframe tbody tr th {\n",
              "        vertical-align: top;\n",
              "    }\n",
              "\n",
              "    .dataframe thead th {\n",
              "        text-align: right;\n",
              "    }\n",
              "</style>\n",
              "<table border=\"1\" class=\"dataframe\">\n",
              "  <thead>\n",
              "    <tr style=\"text-align: right;\">\n",
              "      <th></th>\n",
              "      <th>Day</th>\n",
              "      <th>Haul</th>\n",
              "      <th>Material</th>\n",
              "    </tr>\n",
              "  </thead>\n",
              "  <tbody>\n",
              "    <tr>\n",
              "      <th>1</th>\n",
              "      <td>1</td>\n",
              "      <td>56</td>\n",
              "      <td>ob</td>\n",
              "    </tr>\n",
              "    <tr>\n",
              "      <th>2</th>\n",
              "      <td>2</td>\n",
              "      <td>23</td>\n",
              "      <td>ob</td>\n",
              "    </tr>\n",
              "    <tr>\n",
              "      <th>3</th>\n",
              "      <td>3</td>\n",
              "      <td>43</td>\n",
              "      <td>ob</td>\n",
              "    </tr>\n",
              "    <tr>\n",
              "      <th>4</th>\n",
              "      <td>4</td>\n",
              "      <td>64</td>\n",
              "      <td>ob</td>\n",
              "    </tr>\n",
              "    <tr>\n",
              "      <th>5</th>\n",
              "      <td>5</td>\n",
              "      <td>65</td>\n",
              "      <td>ob</td>\n",
              "    </tr>\n",
              "  </tbody>\n",
              "</table>\n",
              "</div>"
            ],
            "text/plain": [
              "0 Day Haul Material\n",
              "1   1   56       ob\n",
              "2   2   23       ob\n",
              "3   3   43       ob\n",
              "4   4   64       ob\n",
              "5   5   65       ob"
            ]
          },
          "metadata": {
            "tags": []
          },
          "execution_count": 31
        }
      ]
    },
    {
      "cell_type": "markdown",
      "metadata": {
        "id": "yT85lGYtmwJa"
      },
      "source": [
        "Because data imported from Google Sheets is identified as object, not a numberic format, it is neccessary to create a new Pandas Dataframe in order to assign numeric types and calculate statistics."
      ]
    },
    {
      "cell_type": "code",
      "metadata": {
        "id": "2kv3zMyRmvpW"
      },
      "source": [
        "df_schema = {\n",
        "    'Day': mine_prod['Day'].astype(int),\n",
        "    'Hauling_units': mine_prod['Haul'].astype(int),\n",
        "    'Material': mine_prod['Material'].astype(str)\n",
        "}"
      ],
      "execution_count": 32,
      "outputs": []
    },
    {
      "cell_type": "code",
      "metadata": {
        "id": "c6nrhWVYn92C"
      },
      "source": [
        "daily_haul = pd.DataFrame(df_schema)"
      ],
      "execution_count": 33,
      "outputs": []
    },
    {
      "cell_type": "markdown",
      "metadata": {
        "id": "SusKdNDWoTWi"
      },
      "source": [
        "Now let's make sure the dataframe was created correctly and plot the data to determine what type of distribution is the hauling data."
      ]
    },
    {
      "cell_type": "code",
      "metadata": {
        "colab": {
          "base_uri": "https://localhost:8080/",
          "height": 204
        },
        "id": "ylOUyzgPoG_w",
        "outputId": "84d64982-0513-4816-c1e6-4330ceb86ffc"
      },
      "source": [
        "daily_haul.head()"
      ],
      "execution_count": 34,
      "outputs": [
        {
          "output_type": "execute_result",
          "data": {
            "text/html": [
              "<div>\n",
              "<style scoped>\n",
              "    .dataframe tbody tr th:only-of-type {\n",
              "        vertical-align: middle;\n",
              "    }\n",
              "\n",
              "    .dataframe tbody tr th {\n",
              "        vertical-align: top;\n",
              "    }\n",
              "\n",
              "    .dataframe thead th {\n",
              "        text-align: right;\n",
              "    }\n",
              "</style>\n",
              "<table border=\"1\" class=\"dataframe\">\n",
              "  <thead>\n",
              "    <tr style=\"text-align: right;\">\n",
              "      <th></th>\n",
              "      <th>Day</th>\n",
              "      <th>Hauling_units</th>\n",
              "      <th>Material</th>\n",
              "    </tr>\n",
              "  </thead>\n",
              "  <tbody>\n",
              "    <tr>\n",
              "      <th>1</th>\n",
              "      <td>1</td>\n",
              "      <td>56</td>\n",
              "      <td>ob</td>\n",
              "    </tr>\n",
              "    <tr>\n",
              "      <th>2</th>\n",
              "      <td>2</td>\n",
              "      <td>23</td>\n",
              "      <td>ob</td>\n",
              "    </tr>\n",
              "    <tr>\n",
              "      <th>3</th>\n",
              "      <td>3</td>\n",
              "      <td>43</td>\n",
              "      <td>ob</td>\n",
              "    </tr>\n",
              "    <tr>\n",
              "      <th>4</th>\n",
              "      <td>4</td>\n",
              "      <td>64</td>\n",
              "      <td>ob</td>\n",
              "    </tr>\n",
              "    <tr>\n",
              "      <th>5</th>\n",
              "      <td>5</td>\n",
              "      <td>65</td>\n",
              "      <td>ob</td>\n",
              "    </tr>\n",
              "  </tbody>\n",
              "</table>\n",
              "</div>"
            ],
            "text/plain": [
              "   Day  Hauling_units Material\n",
              "1    1             56       ob\n",
              "2    2             23       ob\n",
              "3    3             43       ob\n",
              "4    4             64       ob\n",
              "5    5             65       ob"
            ]
          },
          "metadata": {
            "tags": []
          },
          "execution_count": 34
        }
      ]
    },
    {
      "cell_type": "code",
      "metadata": {
        "colab": {
          "base_uri": "https://localhost:8080/"
        },
        "id": "JDRQeRydqSSa",
        "outputId": "34f0915c-4237-4a59-d785-d4a21b5df5e2"
      },
      "source": [
        "daily_haul['Hauling_units'].describe()"
      ],
      "execution_count": 35,
      "outputs": [
        {
          "output_type": "execute_result",
          "data": {
            "text/plain": [
              "count    36.000000\n",
              "mean     50.166667\n",
              "std      15.725321\n",
              "min      11.000000\n",
              "25%      43.000000\n",
              "50%      55.000000\n",
              "75%      63.000000\n",
              "max      66.000000\n",
              "Name: Hauling_units, dtype: float64"
            ]
          },
          "metadata": {
            "tags": []
          },
          "execution_count": 35
        }
      ]
    },
    {
      "cell_type": "code",
      "metadata": {
        "colab": {
          "base_uri": "https://localhost:8080/",
          "height": 265
        },
        "id": "8KP-iTEkqjhR",
        "outputId": "6dffae91-36c0-40aa-f3ad-55a160adb774"
      },
      "source": [
        "lines = daily_haul['Hauling_units'].plot.line()"
      ],
      "execution_count": 36,
      "outputs": [
        {
          "output_type": "display_data",
          "data": {
            "image/png": "[encoded data removed]",
            "text/plain": [
              "<Figure size 432x288 with 1 Axes>"
            ]
          },
          "metadata": {
            "tags": [],
            "needs_background": "light"
          }
        }
      ]
    },
    {
      "cell_type": "code",
      "metadata": {
        "colab": {
          "base_uri": "https://localhost:8080/"
        },
        "id": "uP8yg1AtsS2M",
        "outputId": "eb578a68-f8e9-4033-e67d-3c46037f67a4"
      },
      "source": [
        "bin_width = round((daily_haul['Hauling_units'].max() - daily_haul['Hauling_units'].min())/10)\n",
        "print(bin_width)"
      ],
      "execution_count": null,
      "outputs": [
        {
          "output_type": "stream",
          "text": [
            "6\n"
          ],
          "name": "stdout"
        }
      ]
    },
    {
      "cell_type": "code",
      "metadata": {
        "colab": {
          "base_uri": "https://localhost:8080/",
          "height": 265
        },
        "id": "Yu2Xqqz6rZUq",
        "outputId": "a46dadf3-0ff7-4aaa-ea50-4f4ecb3ab934"
      },
      "source": [
        "haul_hist = daily_haul['Hauling_units'].plot.hist(bins=bin_width)"
      ],
      "execution_count": null,
      "outputs": [
        {
          "output_type": "display_data",
          "data": {
            "image/png": "[encoded data removed]",
            "text/plain": [
              "<Figure size 432x288 with 1 Axes>"
            ]
          },
          "metadata": {
            "tags": [],
            "needs_background": "light"
          }
        }
      ]
    },
    {
      "cell_type": "markdown",
      "metadata": {
        "id": "_sbesJKWx4jW"
      },
      "source": [
        "In order to generate the random numbers for the excavator (see below), the Coefficient of Variation would be calculated. If CV <= 0.3 then the distribution would be normal, otherwise the random numbers would be generated from a lognormal distribution. In both cases the mean and standard deviation are used as input."
      ]
    },
    {
      "cell_type": "code",
      "metadata": {
        "colab": {
          "base_uri": "https://localhost:8080/"
        },
        "id": "UCfXzCmvTpMS",
        "outputId": "afce5900-95b4-4308-8657-4aa9a6f3063d"
      },
      "source": [
        "# Calculating the mean\n",
        "\n",
        "mean_haul = daily_haul['Hauling_units'].mean()\n",
        "print (mean_haul)"
      ],
      "execution_count": 37,
      "outputs": [
        {
          "output_type": "stream",
          "text": [
            "50.166666666666664\n"
          ],
          "name": "stdout"
        }
      ]
    },
    {
      "cell_type": "code",
      "metadata": {
        "colab": {
          "base_uri": "https://localhost:8080/"
        },
        "id": "cqVg0zMAT8Cn",
        "outputId": "58f67bde-eb09-4bac-f5d7-bb1944ad6fe0"
      },
      "source": [
        "# Calculating the standard deviation\n",
        "\n",
        "std_dev_haul = daily_haul['Hauling_units'].std()\n",
        "print (std_dev_haul)"
      ],
      "execution_count": 38,
      "outputs": [
        {
          "output_type": "stream",
          "text": [
            "15.725320800724997\n"
          ],
          "name": "stdout"
        }
      ]
    },
    {
      "cell_type": "code",
      "metadata": {
        "colab": {
          "base_uri": "https://localhost:8080/"
        },
        "id": "9GXojLfUUSj1",
        "outputId": "ffa47852-9cfe-4606-dcdf-e5407f7ba1a3"
      },
      "source": [
        "# Calculating the CV\n",
        "\n",
        "cov_haul = daily_haul['Hauling_units'].std() / daily_haul['Hauling_units'].mean()\n",
        "\n",
        "print (cov_haul)\n"
      ],
      "execution_count": 39,
      "outputs": [
        {
          "output_type": "stream",
          "text": [
            "0.3134615442004983\n"
          ],
          "name": "stdout"
        }
      ]
    },
    {
      "cell_type": "markdown",
      "metadata": {
        "id": "zXm-My8tqb5n"
      },
      "source": [
        "# Classes defitions"
      ]
    },
    {
      "cell_type": "markdown",
      "metadata": {
        "id": "1CdbgsvCHqoc"
      },
      "source": [
        "To start, let's define the seams and their attributes using a Seam class."
      ]
    },
    {
      "cell_type": "code",
      "metadata": {
        "id": "wisvH4jH_fI0"
      },
      "source": [
        "class Seam():\n",
        "\n",
        "  def __init__(self, seam, volume, units, mining_sequence, ore_type, to_stk = 0, to_dump = 0):\n",
        "\n",
        "    self.seam = seam\n",
        "    self.volume = volume\n",
        "    self.units = units\n",
        "    self.mining_sequence = mining_sequence\n",
        "    self.ore_type = ore_type\n",
        "    self.to_stk = to_stk\n",
        "    self.to_dump = to_dump\n",
        "    self.volumes = [volume]\n",
        "\n",
        "\n",
        "  def update_volume(self, daily_dig):\n",
        "    self.volume -= daily_dig\n",
        "    self.volumes.append(self.volume)\n",
        "    if self.ore_type == 'ore': \n",
        "      if self.volume > 0:\n",
        "        self.to_stk = daily_dig\n",
        "      else:\n",
        "        self.to_stk = 0\n",
        "    else:\n",
        "      self.to_dump = daily_dig\n",
        "\n",
        "  def show_volume(self):\n",
        "    print(self.seam + \" volume is \" + str(self.volume) + self.units)    "
      ],
      "execution_count": 40,
      "outputs": []
    },
    {
      "cell_type": "markdown",
      "metadata": {
        "id": "dLEdaJ_EN7Ly"
      },
      "source": [
        "Let's test if the Seam class is working by creating the overburden seam."
      ]
    },
    {
      "cell_type": "code",
      "metadata": {
        "colab": {
          "base_uri": "https://localhost:8080/"
        },
        "id": "0sjrRUNTOAK3",
        "outputId": "6154286b-62c6-4694-f25b-c5aca4c6d5ea"
      },
      "source": [
        "ob = Seam('Overburden', 5000, 'm3', 'seq1', 'waste')\n",
        "ob.show_volume()"
      ],
      "execution_count": 66,
      "outputs": [
        {
          "output_type": "stream",
          "text": [
            "Overburden volume is 5000m3\n"
          ],
          "name": "stdout"
        }
      ]
    },
    {
      "cell_type": "markdown",
      "metadata": {
        "id": "Pk6AsqnxOaQq"
      },
      "source": [
        "Now that the overburden is created, let's add three more seams, two are ore material and an innerburden seam."
      ]
    },
    {
      "cell_type": "code",
      "metadata": {
        "colab": {
          "base_uri": "https://localhost:8080/"
        },
        "id": "xLboOxsOOlhD",
        "outputId": "835d5d86-5be6-4202-f0c6-c6bac1ab9cf7"
      },
      "source": [
        "seam1 = Seam('Seam1', 3470, 'm3', 'seq2', 'ore')\n",
        "seam1.show_volume()"
      ],
      "execution_count": 67,
      "outputs": [
        {
          "output_type": "stream",
          "text": [
            "Seam1 volume is 3470m3\n"
          ],
          "name": "stdout"
        }
      ]
    },
    {
      "cell_type": "code",
      "metadata": {
        "colab": {
          "base_uri": "https://localhost:8080/"
        },
        "id": "DrQLzR8UO-J0",
        "outputId": "f5d496ea-958e-4e69-c8ab-44b1394a0c74"
      },
      "source": [
        "seam2 = Seam('Seam2', 1250, 'm3', 'seq3', 'waste')\n",
        "seam2.show_volume()"
      ],
      "execution_count": 68,
      "outputs": [
        {
          "output_type": "stream",
          "text": [
            "Seam2 volume is 1250m3\n"
          ],
          "name": "stdout"
        }
      ]
    },
    {
      "cell_type": "code",
      "metadata": {
        "colab": {
          "base_uri": "https://localhost:8080/"
        },
        "id": "KU41BOKZPFWG",
        "outputId": "0a795926-abb2-4eeb-a27c-ba207b5cdeb2"
      },
      "source": [
        "seam3 = Seam('Seam3', 2290, 'm3', 'seq4', 'ore')\n",
        "seam3.show_volume()"
      ],
      "execution_count": 69,
      "outputs": [
        {
          "output_type": "stream",
          "text": [
            "Seam3 volume is 2290m3\n"
          ],
          "name": "stdout"
        }
      ]
    },
    {
      "cell_type": "markdown",
      "metadata": {
        "id": "vf_8K8GgIYPo"
      },
      "source": [
        "Next step would be to create the excavator. Because the excavator is a key element of our operation (basically, without it we coulnd't mine, right?) it will be modeled using a class, also to include more functionality to it later on if needed. For the turn_on_excavator method the data from the \"Daily Haul\" spreadsheet will be used to do the simulations with the most up to date data. Also, note that the CV would be used as a guide to choose the distribution type to generate the random numbers."
      ]
    },
    {
      "cell_type": "code",
      "metadata": {
        "id": "47SX5kJR2oRh"
      },
      "source": [
        "import random\n",
        "\n",
        "class Excavator():\n",
        "\n",
        "  def __init__(self, make, bucket_size, bucket_units, odometer, excavator_id, daily_production, status):\n",
        "\n",
        "    self.make = make\n",
        "    self.bucket_size = bucket_size\n",
        "    self.bucket_units = bucket_units\n",
        "    self.odometer = odometer\n",
        "    self.excavator_id = excavator_id\n",
        "    self.daily_production = daily_production\n",
        "    self.status = status\n",
        "    self.track_daily_mine_prod = []\n",
        "\n",
        "  def update_odometer (self, daily_hours):\n",
        "    self.odometer += daily_hours\n",
        "  \n",
        "  def update_production (self, daily_dig):\n",
        "    self.daily_production = daily_dig\n",
        "\n",
        "  def turn_on_excavator(self, day, cv, mean, std):\n",
        "    working_day = day % 7\n",
        "    if working_day == 0:\n",
        "      self.status = 'off'\n",
        "      self.daily_production = 0\n",
        "      self.track_daily_mine_prod.append(self.daily_production)\n",
        "    else:\n",
        "      self.status = 'on'\n",
        "      if cv <= 0.3:\n",
        "        self.daily_production = int(random.gauss(mean, std))\n",
        "        self.track_daily_mine_prod.append(self.daily_production)\n",
        "      else:\n",
        "        self.daily_production = int(random.weibullvariate(mean, std))\n",
        "        self.track_daily_mine_prod.append(self.daily_production)\n"
      ],
      "execution_count": 45,
      "outputs": []
    },
    {
      "cell_type": "markdown",
      "metadata": {
        "id": "BYEYND3oUEUj"
      },
      "source": [
        "Next let's define the stockpile object."
      ]
    },
    {
      "cell_type": "code",
      "metadata": {
        "id": "gDmUr06WqZER"
      },
      "source": [
        "class Stockpile():\n",
        "\n",
        "  def __init__(self, grade, volume, units, status):\n",
        "    self.grade = grade\n",
        "    self.volume = volume\n",
        "    self.units = units\n",
        "    self.status = status\n",
        "    self.stk_volume = [volume]\n",
        "\n",
        "  def update_volume_from_mining(self, hauling, recovery = 0.8):\n",
        "    self.volume += int(hauling * recovery)\n",
        "\n",
        "  def ship_to_silo(self, plant_silo):\n",
        "    self.volume -= plant_silo\n",
        "    self.stk_volume.append(self.volume)\n",
        "\n",
        "  def show_stockpile(self):\n",
        "    print(\"Stockpile volume is \" + str(self.volume))\n",
        "\n",
        "  def update_status(self):\n",
        "    if self.volume <= 0:\n",
        "      self.status = 'empty'\n",
        "    else:\n",
        "      self.status = 'with ore'\n",
        "\n",
        "  def reset_volume(self):\n",
        "    self.volume = 0"
      ],
      "execution_count": 46,
      "outputs": []
    },
    {
      "cell_type": "markdown",
      "metadata": {
        "id": "XBT4JtSLYZZT"
      },
      "source": [
        "To conclude, a class plant is going to be created."
      ]
    },
    {
      "cell_type": "code",
      "metadata": {
        "id": "dmgpLYWOYjYF"
      },
      "source": [
        "class Plant():\n",
        "\n",
        "\n",
        "  def __init__(self, volume_silo, process_recovery, final_product_inventory, plant_status, silo_capacity, shipped_from_stk, silo_status = 'empty'):\n",
        "    self.volume_silo = volume_silo\n",
        "    self.process_recovery = process_recovery\n",
        "    self.final_product_inventory = final_product_inventory\n",
        "    self.plant_status = plant_status\n",
        "    self.silo_capacity = silo_capacity\n",
        "    self.shipped_from_stk = shipped_from_stk\n",
        "    self.silo_status = silo_status\n",
        "    self.track_silo_status = [silo_status]\n",
        "    self.track_silo_volume = [volume_silo]\n",
        "    self.track_plant_status = [plant_status]\n",
        "    self.track_inventory_levels = [final_product_inventory]\n",
        "    self.track_feed_from_stk = [shipped_from_stk]\n",
        "\n",
        "  def update_silo_status(self):\n",
        "    if self.volume_silo <= 0:\n",
        "      self.silo_status = 'empty'\n",
        "      self.track_silo_status.append(self.silo_status)\n",
        "    elif self.volume_silo <= 100:\n",
        "      self.silo_status = 'low level'\n",
        "      self.track_silo_status.append(self.silo_status)\n",
        "    else:\n",
        "      self.silo_status = 'Operational level'\n",
        "      self.track_silo_status.append(self.silo_status)\n",
        "\n",
        "\n",
        "  def feed_from_stockpile(self, stk, plant_feed):\n",
        "    if stk > self.silo_capacity:\n",
        "      if self.plant_status == 'waiting':\n",
        "        self.shipped_from_stk = self.silo_capacity - self.volume_silo\n",
        "        self.volume_silo = self.volume_silo + (self.silo_capacity - self.volume_silo)\n",
        "        self.track_feed_from_stk.append(self.shipped_from_stk)\n",
        "      elif self.plant_status != 'waiting':\n",
        "        self.shipped_from_stk = self.silo_capacity - self.volume_silo\n",
        "        self.volume_silo = self.volume_silo + (self.silo_capacity - self.volume_silo)\n",
        "        self.track_feed_from_stk.append(self.shipped_from_stk)\n",
        "      else:\n",
        "        self.shipped_from_stk = 0\n",
        "        self.volume_silo += 0\n",
        "        self.track_feed_from_stk.append(self.shipped_from_stk)\n",
        "    elif stk > plant_feed:\n",
        "      need_ore = self.silo_capacity - self.volume_silo\n",
        "      if self.plant_status == 'waiting':\n",
        "        self.shipped_from_stk = 0\n",
        "        self.volume_silo += 0\n",
        "        self.track_feed_from_stk.append(self.shipped_from_stk)\n",
        "      elif need_ore > stk:\n",
        "        self.shipped_from_stk = stk\n",
        "        self.volume_silo += stk\n",
        "        self.track_feed_from_stk.append(self.shipped_from_stk)\n",
        "      else:\n",
        "        self.shipped_from_stk = need_ore\n",
        "        self.volume_silo += need_ore\n",
        "        self.track_feed_from_stk.append(self.shipped_from_stk)\n",
        "    elif stk > 0 and stk < plant_feed:\n",
        "      if self.plant_status == 'waiting':\n",
        "        self.shipped_from_stk = 0\n",
        "        self.volume_silo += 0\n",
        "        self.track_feed_from_stk.append(self.shipped_from_stk)\n",
        "      else:\n",
        "        self.shipped_from_stk = stk\n",
        "        self.volume_silo += stk\n",
        "        self.track_feed_from_stk.append(self.shipped_from_stk)\n",
        "    else:\n",
        "      self.shipped_from_stk = 0\n",
        "      self.volume_silo = 0\n",
        "      self.track_feed_from_stk.append(self.shipped_from_stk)\n",
        "\n",
        "  def update_plant_status(self, ore_in_ground, stk):\n",
        "    if ore_in_ground > 500:\n",
        "      self.plant_status = 'waiting'\n",
        "      self.track_plant_status.append(self.plant_status)\n",
        "    elif ore_in_ground > 0:\n",
        "      self.plant_status = 'Operational_level'\n",
        "      self.track_plant_status.append(self.plant_status)\n",
        "    elif stk > 0:\n",
        "      self.plant_status = 'Operational level'\n",
        "      self.track_plant_status.append(self.plant_status)\n",
        "    elif self.volume_silo > 0:\n",
        "      self.plant_status = 'Operational level'\n",
        "      self.track_plant_status.append(self.plant_status)\n",
        "    else:\n",
        "      self.plant_status = 'stopped'\n",
        "      self.track_plant_status.append(self.plant_status)\n",
        "\n",
        "  def plant_production(self, daily_feed):\n",
        "    if self.volume_silo >= daily_feed:\n",
        "      self.volume_silo -= daily_feed\n",
        "      self.final_product_inventory = int(self.final_product_inventory + (daily_feed * self.process_recovery))\n",
        "      self.track_inventory_levels.append(self.final_product_inventory)\n",
        "      self.track_silo_volume.append(self.volume_silo)\n",
        "    elif self.volume_silo > 0 and self.volume_silo < daily_feed:\n",
        "      available_in_silo = self.volume_silo\n",
        "      self.volume_silo -= available_in_silo\n",
        "      self.final_product_inventory = int(self.final_product_inventory + (available_in_silo * self.process_recovery))\n",
        "      self.track_inventory_levels.append(self.final_product_inventory)\n",
        "      self.track_silo_volume.append(self.volume_silo)\n",
        "    else:\n",
        "      self.volume_silo -= 0\n",
        "      self.final_product_inventory = int(self.final_product_inventory + (0 * self.process_recovery))\n",
        "      self.track_inventory_levels.append(self.final_product_inventory)\n",
        "      self.track_silo_volume.append(self.volume_silo)"
      ],
      "execution_count": 65,
      "outputs": []
    },
    {
      "cell_type": "markdown",
      "metadata": {
        "id": "D_1m3_Rs_LqK"
      },
      "source": [
        "Below is the definition of the Plant class used in the simulation."
      ]
    },
    {
      "cell_type": "code",
      "metadata": {
        "colab": {
          "base_uri": "https://localhost:8080/"
        },
        "id": "t92mitjTgAd5",
        "outputId": "33150fb8-d8c4-4ac0-858d-5528ea729665"
      },
      "source": [
        "plant1 = Plant(0, .815, 0, 'waiting', 500, 0)\n",
        "print(plant1.plant_status)\n",
        "print(plant1.volume_silo)\n",
        "print(plant1.silo_status)"
      ],
      "execution_count": 70,
      "outputs": [
        {
          "output_type": "stream",
          "text": [
            "waiting\n",
            "0\n",
            "empty\n"
          ],
          "name": "stdout"
        }
      ]
    },
    {
      "cell_type": "markdown",
      "metadata": {
        "id": "LgH29okluyJH"
      },
      "source": [
        "Now is time to create the excavator using the Excavator class defined early. For this example we are just saying that the excavator is brand new, ie, motor has \"0\" hours running and no daily production. Note that odometer is not included in the modeling."
      ]
    },
    {
      "cell_type": "code",
      "metadata": {
        "id": "Td0o5OxzxBJW",
        "colab": {
          "base_uri": "https://localhost:8080/"
        },
        "outputId": "9d4d2d36-f739-4e1b-99e8-a5d8a51f871c"
      },
      "source": [
        "excavator1 = Excavator('Cat', 1, 'm3', 0, 'cat1', 0, 'off')\n",
        "print(excavator1.daily_production)\n",
        "print(excavator1.status)"
      ],
      "execution_count": 71,
      "outputs": [
        {
          "output_type": "stream",
          "text": [
            "0\n",
            "off\n"
          ],
          "name": "stdout"
        }
      ]
    },
    {
      "cell_type": "markdown",
      "metadata": {
        "id": "TPzX-JRc0qfs"
      },
      "source": [
        "The next in the line is to create a stockpile with the class of same name, and show the stockpile volume."
      ]
    },
    {
      "cell_type": "code",
      "metadata": {
        "id": "OJUkGk3h08UX"
      },
      "source": [
        "stk1 = Stockpile('Grade1', 0, 'm3', 'empty')"
      ],
      "execution_count": 72,
      "outputs": []
    },
    {
      "cell_type": "code",
      "metadata": {
        "colab": {
          "base_uri": "https://localhost:8080/"
        },
        "id": "8mo34kC036x9",
        "outputId": "94da97c8-b751-436c-9c33-34a62ba00291"
      },
      "source": [
        "stk1.show_stockpile()"
      ],
      "execution_count": 73,
      "outputs": [
        {
          "output_type": "stream",
          "text": [
            "Stockpile volume is 0\n"
          ],
          "name": "stdout"
        }
      ]
    },
    {
      "cell_type": "markdown",
      "metadata": {
        "id": "Djhqixswl6bR"
      },
      "source": [
        "# Mining Function\n",
        "\n",
        "Before proceeding to the simulation, a function to do the mining is prepared"
      ]
    },
    {
      "cell_type": "code",
      "metadata": {
        "id": "ojYbutDgnOyH"
      },
      "source": [
        "def mining(excavator, obd, s1, s2, s3):\n",
        "  if obd > 0:\n",
        "    if obd > excavator:\n",
        "      ob.update_volume(excavator)\n",
        "    elif obd > 0 and obd < excavator:\n",
        "      x = obd\n",
        "      y = excavator - obd\n",
        "      ob.update_volume(x)\n",
        "      seam1.update_volume(y)\n",
        "    else:\n",
        "      ob.update_volume(0)\n",
        "  elif s1 > 0:\n",
        "    if s1 > excavator:\n",
        "      seam1.update_volume(excavator)\n",
        "    elif s1 > 0 and s1 < excavator:\n",
        "      x = s1\n",
        "      y = excavator - s1\n",
        "      seam1.update_volume(x)\n",
        "      seam2.update_volume(y)\n",
        "    else:\n",
        "      seam1.update_volume(0)\n",
        "  elif s2 > 0:\n",
        "    if s2 > excavator:\n",
        "      seam2.update_volume(excavator)\n",
        "    elif s2 > 0 and s2 < excavator:\n",
        "      x = s2\n",
        "      y = excavator - s2\n",
        "      seam2.update_volume(x)\n",
        "      seam3.update_volume(y)\n",
        "    else:\n",
        "      seam2.update_volume(0)\n",
        "  elif s3 > 0:\n",
        "    if s3 > excavator:\n",
        "      seam3.update_volume(excavator)\n",
        "    elif s3 > 0 and s3 < excavator:\n",
        "      x = s3\n",
        "      y = excavator - s3\n",
        "      seam3.update_volume(x)\n",
        "    else:\n",
        "      seam3.update_volume(0)\n",
        "  else:\n",
        "    pass "
      ],
      "execution_count": 63,
      "outputs": []
    },
    {
      "cell_type": "markdown",
      "metadata": {
        "id": "TTJvmlzYo-Zh"
      },
      "source": [
        "# Simulating the mine operation"
      ]
    },
    {
      "cell_type": "markdown",
      "metadata": {
        "id": "SqZzgNT28yzO"
      },
      "source": [
        "Now that the main objects of the mine are defined, as well as the lists that will track volumes evolution and days, it is time to do a simple simulation. The approach for time advance is fixed increment time advance (1 day). \n",
        "\n",
        "The assumption is, once that ore is available in the stockpile, it will feed a silo with a capacity of 500 units. The silo then feeds the plant with a daily input of 35 units.\n",
        "\n",
        "Again, let's remember that the objective of the simulation is to investigate how is the mine operation using one excavator, how fast do we deplete the cut (hence, how fast do we need to have another supply), stockpile and silo. \n",
        "\n",
        "A series of if then statements were used to run the simulation, some of them are repetitive. It is clear that an opportunity to improve the simulation, for example, creating a mining function -just to mention one-, exists. "
      ]
    },
    {
      "cell_type": "code",
      "metadata": {
        "id": "Mq8IooVgFMOu"
      },
      "source": [
        "\n",
        "initial_day = 0\n",
        "plant_feed = 35\n",
        "\n",
        "while True:\n",
        "  \n",
        "    initial_day +=1\n",
        "    ore_in_ground = seam1.volume + seam2.volume + seam3.volume\n",
        "\n",
        "    if plant1.plant_status != 'stopped':\n",
        "\n",
        "      excavator1.turn_on_excavator(initial_day, cov_haul, mean_haul, std_dev_haul)\n",
        "      mining(excavator1.daily_production, ob.volume, seam1.volume, seam2.volume, seam3.volume)\n",
        "      for_stk = seam1.to_stk + seam2.to_stk + seam3.to_stk\n",
        "      stk1.update_volume_from_mining(for_stk)\n",
        "      plant1.feed_from_stockpile(stk1.volume, plant_feed)\n",
        "      stk1.ship_to_silo(plant1.shipped_from_stk)\n",
        "      stk1.update_status()\n",
        "      plant1.plant_production(plant_feed)\n",
        "      plant1.update_silo_status()\n",
        "      plant1.update_plant_status(ore_in_ground, stk1.volume)\n",
        "  \n",
        "    else:\n",
        "      break"
      ],
      "execution_count": 74,
      "outputs": []
    },
    {
      "cell_type": "code",
      "metadata": {
        "colab": {
          "base_uri": "https://localhost:8080/"
        },
        "id": "yD7iYVRQxx08",
        "outputId": "a6785c03-479d-474d-ac64-519f8c6b242c"
      },
      "source": [
        "print(ore_in_ground)"
      ],
      "execution_count": 75,
      "outputs": [
        {
          "output_type": "stream",
          "text": [
            "0\n"
          ],
          "name": "stdout"
        }
      ]
    },
    {
      "cell_type": "code",
      "metadata": {
        "colab": {
          "base_uri": "https://localhost:8080/"
        },
        "id": "l7alV7DT3ktZ",
        "outputId": "6467672b-ebc4-4fe3-a521-822395406c57"
      },
      "source": [
        "print(ob.volumes)\n",
        "print(seam1.volumes)\n",
        "print(seam2.volumes)\n",
        "print(seam3.volumes)"
      ],
      "execution_count": 76,
      "outputs": [
        {
          "output_type": "stream",
          "text": [
            "[5000, 4955, 4911, 4864, 4811, 4771, 4726, 4726, 4676, 4628, 4579, 4530, 4481, 4431, 4431, 4384, 4334, 4285, 4247, 4197, 4148, 4148, 4102, 4049, 4001, 3955, 3906, 3864, 3864, 3815, 3767, 3718, 3673, 3620, 3573, 3573, 3527, 3474, 3428, 3394, 3350, 3308, 3308, 3267, 3225, 3179, 3128, 3080, 3026, 3026, 2974, 2928, 2892, 2849, 2802, 2753, 2753, 2706, 2664, 2613, 2566, 2518, 2470, 2470, 2421, 2376, 2327, 2281, 2235, 2193, 2193, 2141, 2093, 2053, 2002, 1960, 1915, 1915, 1872, 1824, 1774, 1722, 1672, 1626, 1626, 1578, 1535, 1491, 1442, 1394, 1346, 1346, 1293, 1244, 1195, 1146, 1094, 1050, 1050, 1006, 965, 914, 861, 814, 766, 766, 723, 678, 630, 590, 549, 501, 501, 449, 402, 356, 313, 271, 222, 222, 177, 130, 79, 34, 0]\n",
            "[3470, 3460, 3412, 3412, 3369, 3326, 3274, 3224, 3181, 3133, 3133, 3084, 3034, 2992, 2939, 2892, 2843, 2843, 2789, 2745, 2698, 2653, 2602, 2554, 2554, 2505, 2464, 2416, 2375, 2326, 2282, 2282, 2231, 2187, 2137, 2091, 2044, 1995, 1995, 1955, 1910, 1858, 1807, 1757, 1712, 1712, 1658, 1619, 1573, 1517, 1468, 1416, 1416, 1374, 1326, 1276, 1228, 1191, 1140, 1140, 1091, 1039, 992, 942, 897, 849, 849, 802, 748, 704, 653, 600, 553, 553, 501, 456, 414, 361, 314, 259, 259, 212, 161, 110, 60, 12, 0]\n",
            "[1250, 1214, 1214, 1165, 1121, 1079, 1033, 984, 934, 934, 885, 836, 785, 736, 685, 638, 638, 593, 536, 484, 435, 379, 330, 330, 279, 230, 188, 138, 89, 43, 43, 0]\n",
            "[2290, 2285, 2243, 2197, 2149, 2099, 2053, 2053, 2007, 1954, 1907, 1860, 1810, 1759, 1759, 1710, 1661, 1613, 1562, 1511, 1464, 1464, 1413, 1367, 1325, 1272, 1226, 1175, 1175, 1122, 1075, 1024, 976, 924, 878, 878, 833, 788, 736, 690, 645, 594, 594, 543, 498, 445, 401, 354, 299, 299, 253, 202, 155, 108, 64, 16, 16, 0]\n"
          ],
          "name": "stdout"
        }
      ]
    },
    {
      "cell_type": "code",
      "metadata": {
        "colab": {
          "base_uri": "https://localhost:8080/"
        },
        "id": "SB6wMKFW8rqf",
        "outputId": "9a464c2c-65dd-49c6-f596-5b881418357d"
      },
      "source": [
        "print(for_stk)"
      ],
      "execution_count": 77,
      "outputs": [
        {
          "output_type": "stream",
          "text": [
            "0\n"
          ],
          "name": "stdout"
        }
      ]
    },
    {
      "cell_type": "code",
      "metadata": {
        "colab": {
          "base_uri": "https://localhost:8080/"
        },
        "id": "XM3XIkao81nq",
        "outputId": "560c2381-06df-4c25-c7c2-7878e9d947c5"
      },
      "source": [
        "print(seam1.to_stk)"
      ],
      "execution_count": 78,
      "outputs": [
        {
          "output_type": "stream",
          "text": [
            "0\n"
          ],
          "name": "stdout"
        }
      ]
    },
    {
      "cell_type": "code",
      "metadata": {
        "colab": {
          "base_uri": "https://localhost:8080/"
        },
        "id": "EghwWo_687ho",
        "outputId": "03252e60-709b-436f-baf8-327ef6824c67"
      },
      "source": [
        "print(seam2.to_stk)"
      ],
      "execution_count": 79,
      "outputs": [
        {
          "output_type": "stream",
          "text": [
            "0\n"
          ],
          "name": "stdout"
        }
      ]
    },
    {
      "cell_type": "code",
      "metadata": {
        "colab": {
          "base_uri": "https://localhost:8080/"
        },
        "id": "9jbUQaKe8_L1",
        "outputId": "3d14428a-7380-4ee8-cc60-bf7551715a57"
      },
      "source": [
        "print(seam3.to_stk)"
      ],
      "execution_count": 80,
      "outputs": [
        {
          "output_type": "stream",
          "text": [
            "0\n"
          ],
          "name": "stdout"
        }
      ]
    },
    {
      "cell_type": "code",
      "metadata": {
        "colab": {
          "base_uri": "https://localhost:8080/"
        },
        "id": "qP0HsFdxxp3f",
        "outputId": "6809777a-4b71-48da-9073-6832a03701bc"
      },
      "source": [
        "print(excavator1.track_daily_mine_prod)"
      ],
      "execution_count": 81,
      "outputs": [
        {
          "output_type": "stream",
          "text": [
            "[45, 44, 47, 53, 40, 45, 0, 50, 48, 49, 49, 49, 50, 0, 47, 50, 49, 38, 50, 49, 0, 46, 53, 48, 46, 49, 42, 0, 49, 48, 49, 45, 53, 47, 0, 46, 53, 46, 34, 44, 42, 0, 41, 42, 46, 51, 48, 54, 0, 52, 46, 36, 43, 47, 49, 0, 47, 42, 51, 47, 48, 48, 0, 49, 45, 49, 46, 46, 42, 0, 52, 48, 40, 51, 42, 45, 0, 43, 48, 50, 52, 50, 46, 0, 48, 43, 44, 49, 48, 48, 0, 53, 49, 49, 49, 52, 44, 0, 44, 41, 51, 53, 47, 48, 0, 43, 45, 48, 40, 41, 48, 0, 52, 47, 46, 43, 42, 49, 0, 45, 47, 51, 45, 44, 48, 0, 43, 43, 52, 50, 43, 48, 0, 49, 50, 42, 53, 47, 49, 0, 54, 44, 47, 45, 51, 48, 0, 49, 41, 48, 41, 49, 44, 0, 51, 44, 50, 46, 47, 49, 0, 40, 45, 52, 51, 50, 45, 0, 54, 39, 46, 56, 49, 52, 0, 42, 48, 50, 48, 37, 51, 0, 49, 52, 47, 50, 45, 48, 0, 47, 54, 44, 51, 53, 47, 0, 52, 45, 42, 53, 47, 55, 0, 47, 51, 51, 50, 48, 48, 0, 49, 44, 42, 46, 49, 50, 0, 49, 49, 51, 49, 51, 47, 0, 45, 57, 52, 49, 56, 49, 0, 51, 49, 42, 50, 49, 46, 0, 48, 42, 46, 48, 50, 46, 0, 46, 53, 47, 47, 50, 51, 0, 49, 49, 48, 51, 51, 47, 0, 51, 46, 42, 53, 46, 51, 0, 53, 47, 51, 48, 52, 46, 0, 45, 45, 52, 46, 45, 51, 0, 51, 45, 53, 44, 47, 55, 0, 46, 51, 47, 47, 44, 48, 0, 44, 50]\n"
          ],
          "name": "stdout"
        }
      ]
    },
    {
      "cell_type": "code",
      "metadata": {
        "colab": {
          "base_uri": "https://localhost:8080/"
        },
        "id": "VI8Z1_NA28fg",
        "outputId": "72269731-26d7-41a4-84b6-2d42e75beba7"
      },
      "source": [
        "print(plant1.track_feed_from_stk)"
      ],
      "execution_count": 82,
      "outputs": [
        {
          "output_type": "stream",
          "text": [
            "[0, 0, 0, 0, 0, 0, 0, 0, 0, 0, 0, 0, 0, 0, 0, 0, 0, 0, 0, 0, 0, 0, 0, 0, 0, 0, 0, 0, 0, 0, 0, 0, 0, 0, 0, 0, 0, 0, 0, 0, 0, 0, 0, 0, 0, 0, 0, 0, 0, 0, 0, 0, 0, 0, 0, 0, 0, 0, 0, 0, 0, 0, 0, 0, 0, 0, 0, 0, 0, 0, 0, 0, 0, 0, 0, 0, 0, 0, 0, 0, 0, 0, 0, 0, 0, 0, 0, 0, 0, 0, 0, 0, 0, 0, 0, 0, 0, 0, 0, 0, 0, 0, 0, 0, 0, 0, 0, 0, 0, 0, 0, 0, 0, 0, 0, 0, 0, 0, 0, 0, 0, 0, 0, 0, 0, 0, 0, 0, 0, 0, 0, 0, 0, 0, 0, 0, 0, 0, 0, 0, 0, 500, 0, 0, 0, 0, 0, 0, 0, 0, 0, 0, 0, 0, 0, 0, 500, 0, 0, 0, 0, 0, 0, 0, 0, 0, 0, 0, 0, 0, 0, 500, 0, 0, 0, 0, 0, 0, 0, 0, 0, 0, 0, 0, 0, 0, 500, 0, 0, 0, 0, 0, 0, 0, 0, 0, 0, 0, 0, 0, 0, 0, 500, 0, 0, 0, 0, 0, 0, 0, 0, 0, 0, 0, 0, 0, 0, 0, 0, 0, 0, 0, 0, 0, 0, 0, 0, 0, 0, 0, 0, 0, 0, 0, 0, 0, 0, 0, 0, 0, 0, 0, 0, 0, 0, 0, 0, 500, 0, 0, 0, 0, 0, 0, 0, 0, 0, 0, 0, 0, 0, 0, 0, 500, 0, 0, 0, 0, 0, 0, 0, 0, 0, 0, 0, 0, 0, 0, 500, 0, 0, 0, 0, 0, 210, 35, 35, 30, 36, 39, 35, 35, 35, 35, 8, 0, 0]\n"
          ],
          "name": "stdout"
        }
      ]
    },
    {
      "cell_type": "code",
      "metadata": {
        "colab": {
          "base_uri": "https://localhost:8080/"
        },
        "id": "GQYM9Wx25CBZ",
        "outputId": "24e86102-f961-40bc-b3c6-48751bae0f08"
      },
      "source": [
        "print(len(plant1.track_feed_from_stk))"
      ],
      "execution_count": 85,
      "outputs": [
        {
          "output_type": "stream",
          "text": [
            "297\n"
          ],
          "name": "stdout"
        }
      ]
    },
    {
      "cell_type": "code",
      "metadata": {
        "colab": {
          "base_uri": "https://localhost:8080/"
        },
        "id": "uYZDYj4w5nG9",
        "outputId": "205b5614-b2fe-4925-e3cc-aa250df769af"
      },
      "source": [
        "print(stk1.stk_volume)\n",
        "# There are many similar consecutive numbers, I think is the loop that feed from the stk to\n",
        "# the silo, need to fix that later. Main focus is to write data back\n",
        "# into GS to compare real vs simulation and to present these results\n",
        "# to managers"
      ],
      "execution_count": 86,
      "outputs": [
        {
          "output_type": "stream",
          "text": [
            "[0, 0, 0, 0, 0, 0, 0, 0, 0, 0, 0, 0, 0, 0, 0, 0, 0, 0, 0, 0, 0, 0, 0, 0, 0, 0, 0, 0, 0, 0, 0, 0, 0, 0, 0, 0, 0, 0, 0, 0, 0, 0, 0, 0, 0, 0, 0, 0, 0, 0, 0, 0, 0, 0, 0, 0, 0, 0, 0, 0, 0, 0, 0, 0, 0, 0, 0, 0, 0, 0, 0, 0, 0, 0, 0, 0, 0, 0, 0, 0, 0, 0, 0, 0, 0, 0, 0, 0, 0, 0, 0, 0, 0, 0, 0, 0, 0, 0, 0, 0, 0, 0, 0, 0, 0, 0, 0, 0, 0, 0, 0, 0, 0, 0, 0, 0, 0, 0, 0, 0, 0, 0, 0, 0, 8, 46, 46, 80, 114, 155, 195, 229, 267, 267, 306, 346, 379, 421, 458, 497, 497, 40, 75, 112, 148, 188, 226, 226, 265, 297, 335, 367, 406, 441, 441, 481, 16, 56, 92, 129, 168, 168, 200, 236, 277, 317, 357, 393, 393, 436, 467, 3, 47, 86, 127, 127, 160, 198, 238, 276, 305, 345, 345, 384, 425, 462, 2, 38, 76, 76, 113, 156, 191, 231, 273, 310, 310, 351, 387, 420, 462, 499, 43, 43, 80, 120, 160, 200, 238, 238, 238, 238, 238, 238, 238, 238, 238, 238, 238, 238, 238, 238, 238, 238, 238, 238, 238, 238, 238, 238, 238, 238, 238, 238, 238, 238, 238, 238, 238, 242, 275, 311, 349, 389, 425, 425, 461, 3, 40, 77, 117, 157, 157, 196, 235, 273, 313, 353, 390, 390, 430, 466, 499, 41, 77, 117, 117, 159, 196, 236, 274, 315, 351, 351, 387, 423, 464, 500, 36, 76, 76, 116, 152, 194, 19, 21, 30, 0, 0, 1, 3, 5, 5, 8, 0, 0, 0]\n"
          ],
          "name": "stdout"
        }
      ]
    },
    {
      "cell_type": "code",
      "metadata": {
        "colab": {
          "base_uri": "https://localhost:8080/"
        },
        "id": "Q2tgFoux7QMg",
        "outputId": "6ac8bc40-87e0-47bb-85b8-97d401059d3d"
      },
      "source": [
        "print(len(stk1.stk_volume))"
      ],
      "execution_count": 88,
      "outputs": [
        {
          "output_type": "stream",
          "text": [
            "297\n"
          ],
          "name": "stdout"
        }
      ]
    },
    {
      "cell_type": "code",
      "metadata": {
        "colab": {
          "base_uri": "https://localhost:8080/"
        },
        "id": "_Luuh3LhtjBK",
        "outputId": "d8758922-acc5-4090-e570-8a961db0dc8b"
      },
      "source": [
        "print(plant1.track_plant_status)"
      ],
      "execution_count": 89,
      "outputs": [
        {
          "output_type": "stream",
          "text": [
            "['waiting', 'waiting', 'waiting', 'waiting', 'waiting', 'waiting', 'waiting', 'waiting', 'waiting', 'waiting', 'waiting', 'waiting', 'waiting', 'waiting', 'waiting', 'waiting', 'waiting', 'waiting', 'waiting', 'waiting', 'waiting', 'waiting', 'waiting', 'waiting', 'waiting', 'waiting', 'waiting', 'waiting', 'waiting', 'waiting', 'waiting', 'waiting', 'waiting', 'waiting', 'waiting', 'waiting', 'waiting', 'waiting', 'waiting', 'waiting', 'waiting', 'waiting', 'waiting', 'waiting', 'waiting', 'waiting', 'waiting', 'waiting', 'waiting', 'waiting', 'waiting', 'waiting', 'waiting', 'waiting', 'waiting', 'waiting', 'waiting', 'waiting', 'waiting', 'waiting', 'waiting', 'waiting', 'waiting', 'waiting', 'waiting', 'waiting', 'waiting', 'waiting', 'waiting', 'waiting', 'waiting', 'waiting', 'waiting', 'waiting', 'waiting', 'waiting', 'waiting', 'waiting', 'waiting', 'waiting', 'waiting', 'waiting', 'waiting', 'waiting', 'waiting', 'waiting', 'waiting', 'waiting', 'waiting', 'waiting', 'waiting', 'waiting', 'waiting', 'waiting', 'waiting', 'waiting', 'waiting', 'waiting', 'waiting', 'waiting', 'waiting', 'waiting', 'waiting', 'waiting', 'waiting', 'waiting', 'waiting', 'waiting', 'waiting', 'waiting', 'waiting', 'waiting', 'waiting', 'waiting', 'waiting', 'waiting', 'waiting', 'waiting', 'waiting', 'waiting', 'waiting', 'waiting', 'waiting', 'waiting', 'waiting', 'waiting', 'waiting', 'waiting', 'waiting', 'waiting', 'waiting', 'waiting', 'waiting', 'waiting', 'waiting', 'waiting', 'waiting', 'waiting', 'waiting', 'waiting', 'waiting', 'waiting', 'waiting', 'waiting', 'waiting', 'waiting', 'waiting', 'waiting', 'waiting', 'waiting', 'waiting', 'waiting', 'waiting', 'waiting', 'waiting', 'waiting', 'waiting', 'waiting', 'waiting', 'waiting', 'waiting', 'waiting', 'waiting', 'waiting', 'waiting', 'waiting', 'waiting', 'waiting', 'waiting', 'waiting', 'waiting', 'waiting', 'waiting', 'waiting', 'waiting', 'waiting', 'waiting', 'waiting', 'waiting', 'waiting', 'waiting', 'waiting', 'waiting', 'waiting', 'waiting', 'waiting', 'waiting', 'waiting', 'waiting', 'waiting', 'waiting', 'waiting', 'waiting', 'waiting', 'waiting', 'waiting', 'waiting', 'waiting', 'waiting', 'waiting', 'waiting', 'waiting', 'waiting', 'waiting', 'waiting', 'waiting', 'waiting', 'waiting', 'waiting', 'waiting', 'waiting', 'waiting', 'waiting', 'waiting', 'waiting', 'waiting', 'waiting', 'waiting', 'waiting', 'waiting', 'waiting', 'waiting', 'waiting', 'waiting', 'waiting', 'waiting', 'waiting', 'waiting', 'waiting', 'waiting', 'waiting', 'waiting', 'waiting', 'waiting', 'waiting', 'waiting', 'waiting', 'waiting', 'waiting', 'waiting', 'waiting', 'waiting', 'waiting', 'waiting', 'waiting', 'waiting', 'waiting', 'waiting', 'waiting', 'waiting', 'waiting', 'waiting', 'waiting', 'waiting', 'waiting', 'waiting', 'waiting', 'waiting', 'waiting', 'waiting', 'waiting', 'waiting', 'waiting', 'waiting', 'waiting', 'waiting', 'waiting', 'waiting', 'waiting', 'waiting', 'waiting', 'waiting', 'waiting', 'waiting', 'waiting', 'waiting', 'waiting', 'waiting', 'waiting', 'waiting', 'waiting', 'waiting', 'waiting', 'Operational_level', 'Operational_level', 'Operational_level', 'Operational_level', 'Operational_level', 'Operational_level', 'Operational_level', 'Operational_level', 'Operational_level', 'Operational_level', 'Operational_level', 'Operational_level', 'Operational_level', 'stopped']\n"
          ],
          "name": "stdout"
        }
      ]
    },
    {
      "cell_type": "code",
      "metadata": {
        "colab": {
          "base_uri": "https://localhost:8080/"
        },
        "id": "f3LyVcOctmDF",
        "outputId": "ce3aaff2-c567-4f7a-9354-7bfb48739eb7"
      },
      "source": [
        "print(plant1.track_silo_status)"
      ],
      "execution_count": 90,
      "outputs": [
        {
          "output_type": "stream",
          "text": [
            "['empty', 'empty', 'empty', 'empty', 'empty', 'empty', 'empty', 'empty', 'empty', 'empty', 'empty', 'empty', 'empty', 'empty', 'empty', 'empty', 'empty', 'empty', 'empty', 'empty', 'empty', 'empty', 'empty', 'empty', 'empty', 'empty', 'empty', 'empty', 'empty', 'empty', 'empty', 'empty', 'empty', 'empty', 'empty', 'empty', 'empty', 'empty', 'empty', 'empty', 'empty', 'empty', 'empty', 'empty', 'empty', 'empty', 'empty', 'empty', 'empty', 'empty', 'empty', 'empty', 'empty', 'empty', 'empty', 'empty', 'empty', 'empty', 'empty', 'empty', 'empty', 'empty', 'empty', 'empty', 'empty', 'empty', 'empty', 'empty', 'empty', 'empty', 'empty', 'empty', 'empty', 'empty', 'empty', 'empty', 'empty', 'empty', 'empty', 'empty', 'empty', 'empty', 'empty', 'empty', 'empty', 'empty', 'empty', 'empty', 'empty', 'empty', 'empty', 'empty', 'empty', 'empty', 'empty', 'empty', 'empty', 'empty', 'empty', 'empty', 'empty', 'empty', 'empty', 'empty', 'empty', 'empty', 'empty', 'empty', 'empty', 'empty', 'empty', 'empty', 'empty', 'empty', 'empty', 'empty', 'empty', 'empty', 'empty', 'empty', 'empty', 'empty', 'empty', 'empty', 'empty', 'empty', 'empty', 'empty', 'empty', 'empty', 'empty', 'empty', 'empty', 'empty', 'empty', 'empty', 'empty', 'empty', 'empty', 'empty', 'empty', 'Operational level', 'Operational level', 'Operational level', 'Operational level', 'Operational level', 'Operational level', 'Operational level', 'Operational level', 'Operational level', 'Operational level', 'Operational level', 'low level', 'low level', 'low level', 'empty', 'Operational level', 'Operational level', 'Operational level', 'Operational level', 'Operational level', 'Operational level', 'Operational level', 'Operational level', 'Operational level', 'Operational level', 'Operational level', 'low level', 'low level', 'low level', 'empty', 'Operational level', 'Operational level', 'Operational level', 'Operational level', 'Operational level', 'Operational level', 'Operational level', 'Operational level', 'Operational level', 'Operational level', 'Operational level', 'low level', 'low level', 'low level', 'empty', 'Operational level', 'Operational level', 'Operational level', 'Operational level', 'Operational level', 'Operational level', 'Operational level', 'Operational level', 'Operational level', 'Operational level', 'Operational level', 'low level', 'low level', 'low level', 'empty', 'empty', 'Operational level', 'Operational level', 'Operational level', 'Operational level', 'Operational level', 'Operational level', 'Operational level', 'Operational level', 'Operational level', 'Operational level', 'Operational level', 'low level', 'low level', 'low level', 'empty', 'empty', 'empty', 'empty', 'empty', 'empty', 'empty', 'empty', 'empty', 'empty', 'empty', 'empty', 'empty', 'empty', 'empty', 'empty', 'empty', 'empty', 'empty', 'empty', 'empty', 'empty', 'empty', 'empty', 'empty', 'empty', 'empty', 'empty', 'empty', 'empty', 'empty', 'Operational level', 'Operational level', 'Operational level', 'Operational level', 'Operational level', 'Operational level', 'Operational level', 'Operational level', 'Operational level', 'Operational level', 'Operational level', 'low level', 'low level', 'low level', 'empty', 'empty', 'Operational level', 'Operational level', 'Operational level', 'Operational level', 'Operational level', 'Operational level', 'Operational level', 'Operational level', 'Operational level', 'Operational level', 'Operational level', 'low level', 'low level', 'low level', 'empty', 'Operational level', 'Operational level', 'Operational level', 'Operational level', 'Operational level', 'Operational level', 'Operational level', 'Operational level', 'Operational level', 'Operational level', 'Operational level', 'Operational level', 'Operational level', 'Operational level', 'Operational level', 'Operational level', 'Operational level', 'empty', 'empty']\n"
          ],
          "name": "stdout"
        }
      ]
    },
    {
      "cell_type": "code",
      "metadata": {
        "colab": {
          "base_uri": "https://localhost:8080/"
        },
        "id": "8B2-oi3jtpRe",
        "outputId": "3e036811-a7a2-45c2-8d55-d8a2691126cf"
      },
      "source": [
        "print(plant1.track_silo_volume)"
      ],
      "execution_count": 91,
      "outputs": [
        {
          "output_type": "stream",
          "text": [
            "[0, 0, 0, 0, 0, 0, 0, 0, 0, 0, 0, 0, 0, 0, 0, 0, 0, 0, 0, 0, 0, 0, 0, 0, 0, 0, 0, 0, 0, 0, 0, 0, 0, 0, 0, 0, 0, 0, 0, 0, 0, 0, 0, 0, 0, 0, 0, 0, 0, 0, 0, 0, 0, 0, 0, 0, 0, 0, 0, 0, 0, 0, 0, 0, 0, 0, 0, 0, 0, 0, 0, 0, 0, 0, 0, 0, 0, 0, 0, 0, 0, 0, 0, 0, 0, 0, 0, 0, 0, 0, 0, 0, 0, 0, 0, 0, 0, 0, 0, 0, 0, 0, 0, 0, 0, 0, 0, 0, 0, 0, 0, 0, 0, 0, 0, 0, 0, 0, 0, 0, 0, 0, 0, 0, 0, 0, 0, 0, 0, 0, 0, 0, 0, 0, 0, 0, 0, 0, 0, 0, 0, 465, 430, 395, 360, 325, 290, 255, 220, 185, 150, 115, 80, 45, 10, 0, 465, 430, 395, 360, 325, 290, 255, 220, 185, 150, 115, 80, 45, 10, 0, 465, 430, 395, 360, 325, 290, 255, 220, 185, 150, 115, 80, 45, 10, 0, 465, 430, 395, 360, 325, 290, 255, 220, 185, 150, 115, 80, 45, 10, 0, 0, 465, 430, 395, 360, 325, 290, 255, 220, 185, 150, 115, 80, 45, 10, 0, 0, 0, 0, 0, 0, 0, 0, 0, 0, 0, 0, 0, 0, 0, 0, 0, 0, 0, 0, 0, 0, 0, 0, 0, 0, 0, 0, 0, 0, 0, 465, 430, 395, 360, 325, 290, 255, 220, 185, 150, 115, 80, 45, 10, 0, 0, 465, 430, 395, 360, 325, 290, 255, 220, 185, 150, 115, 80, 45, 10, 0, 465, 430, 395, 360, 325, 290, 465, 465, 465, 460, 461, 465, 465, 465, 465, 465, 438, 0, 0]\n"
          ],
          "name": "stdout"
        }
      ]
    },
    {
      "cell_type": "markdown",
      "metadata": {
        "id": "7elrhWdksVoR"
      },
      "source": [
        "# Results\n",
        "\n",
        "Once the simulation ends running, let's write the results back to Google Sheets in order to communicate and to store the results for comparations. The link to the spreadsheet where the results are stored is [here](https://docs.google.com/spreadsheets/d/1KndJwDmBGuw89QUCqFEAzy1C0VIeTwVkzSZ4yOoOieQ/edit?usp=sharing)\n",
        "\n"
      ]
    },
    {
      "cell_type": "code",
      "metadata": {
        "id": "Ptux16Xh3Uhs"
      },
      "source": [
        "from google.colab import auth\n",
        "auth.authenticate_user()\n",
        "\n",
        "import gspread\n",
        "from oauth2client.client import GoogleCredentials\n",
        "\n",
        "gc = gspread.authorize(GoogleCredentials.get_application_default())\n",
        "\n",
        "worksheet = gc.open('Results').sheet1"
      ],
      "execution_count": 92,
      "outputs": []
    },
    {
      "cell_type": "code",
      "metadata": {
        "id": "lqB7OlO4cjuh"
      },
      "source": [
        "obs = []"
      ],
      "execution_count": 93,
      "outputs": []
    },
    {
      "cell_type": "code",
      "metadata": {
        "id": "Cb6oi2wnclyp"
      },
      "source": [
        "obs.append(ob.volumes)"
      ],
      "execution_count": 94,
      "outputs": []
    },
    {
      "cell_type": "code",
      "metadata": {
        "id": "fLBMlKzvdpQi"
      },
      "source": [
        "for j in range(len(obs)):\n",
        "  for i in range(len(obs[0])):\n",
        "    worksheet.update_cell(i+2, j+1, (obs[j][i]))"
      ],
      "execution_count": 95,
      "outputs": []
    },
    {
      "cell_type": "code",
      "metadata": {
        "id": "q3dxVf49qq8K"
      },
      "source": [
        "s1_ev = [seam1.volumes]"
      ],
      "execution_count": null,
      "outputs": []
    },
    {
      "cell_type": "code",
      "metadata": {
        "id": "ejW5aSB0q2Lr"
      },
      "source": [
        "s2_ev = [seam2.volumes]"
      ],
      "execution_count": null,
      "outputs": []
    },
    {
      "cell_type": "code",
      "metadata": {
        "id": "i6ELrwKeq6B3"
      },
      "source": [
        "s3_ev = [seam3.volumes]"
      ],
      "execution_count": null,
      "outputs": []
    },
    {
      "cell_type": "code",
      "metadata": {
        "id": "aWRQPCd0t9xm"
      },
      "source": [
        "stk_ev = [stk1.stk_volume]"
      ],
      "execution_count": null,
      "outputs": []
    },
    {
      "cell_type": "code",
      "metadata": {
        "id": "GoYBRStgrArG"
      },
      "source": [
        "for j in range(len(s1_ev)):\n",
        "  for i in range(len(s1_ev[0])):\n",
        "    worksheet.update_cell(i+2, j+2, (s1_ev[j][i]))"
      ],
      "execution_count": null,
      "outputs": []
    },
    {
      "cell_type": "code",
      "metadata": {
        "id": "V4jgzHonrW5l"
      },
      "source": [
        "for j in range(len(s2_ev)):\n",
        "  for i in range(len(s2_ev[0])):\n",
        "    worksheet.update_cell(i+2, j+3, (s2_ev[j][i]))"
      ],
      "execution_count": null,
      "outputs": []
    },
    {
      "cell_type": "code",
      "metadata": {
        "id": "-3c7By2YsSS5"
      },
      "source": [
        "for j in range(len(s3_ev)):\n",
        "  for i in range(len(s3_ev[0])):\n",
        "    worksheet.update_cell(i+2, j+4, (s3_ev[j][i]))"
      ],
      "execution_count": null,
      "outputs": []
    },
    {
      "cell_type": "code",
      "metadata": {
        "id": "HuntUvXQuBvH"
      },
      "source": [
        "for j in range(len(stk_ev)):\n",
        "  for i in range(len(stk_ev[0])):\n",
        "    worksheet.update_cell(i+2, j+5, (stk_ev[j][i]))"
      ],
      "execution_count": null,
      "outputs": []
    }
  ]
}