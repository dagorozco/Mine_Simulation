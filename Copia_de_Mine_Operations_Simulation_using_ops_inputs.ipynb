{
  "nbformat": 4,
  "nbformat_minor": 0,
  "metadata": {
    "colab": {
      "name": "Copia de Mine Operations Simulation using ops inputs.ipynb",
      "provenance": [],
      "collapsed_sections": []
    },
    "kernelspec": {
      "name": "python3",
      "display_name": "Python 3"
    }
  },
  "cells": [
    {
      "cell_type": "markdown",
      "metadata": {
        "id": "kbQeL9IT-5F-"
      },
      "source": [
        "**Disclaimer: No real data! It doesn't relates to any real mine I have been involved. This is only an exercise to put in practice OOP and a few simulation concepts**\n",
        "\n",
        "This an attemp to model the operation of a mine. The geological setting is a sedimentary, flat layered deposit. It is comprised of 4 seams: overburden, seam1, seam2 and seam3. For this example seam2 is considered waste. This exercise considers that geological modeling and pit design has been completed. Volumes for the seam are unitless.\n",
        "\n",
        "The mine shift is 6 days 1, 1 day off. There is only 1 excavator on site, the number of trucks was not considered in this exercise for the sake of brevity. \n",
        "\n",
        "Daily extraction, if ore, goes to a stockpile, while waste material to a dump. Stockpile volumes was considered in this example, while dump capacity, though importan to model, was out of the scope.\n",
        "\n",
        "The stockpile feeds a plant. The plant runs 7 days a week, 365 days. Plant stops for maintenance or suddens failures were not included in the simulation.\n",
        "\n",
        "In order to run this exercise, it is considerd that the plant produces one product type. No sales of final product included, inventory is acumulated.\n",
        "\n",
        "The scope of the simulation is to investigate how long it could take the stripping, deplete the cut, how often the stockpile has no available ore and the plant is idle. The simulation stops when the silo al the plant is empty and no more ore in the ground or in the stockpile is available."
      ]
    },
    {
      "cell_type": "markdown",
      "metadata": {
        "id": "f2pkpCv1hc9V"
      },
      "source": [
        "# Connecting to Ops data\n",
        "\n",
        "Firts, let assume that the mine operation departments uses Google Sheets for data capture. These values will be used to fine tune the simulation, in order to provide a better forecasts learning from previous data.\n",
        "\n",
        "To achieve the former, data would be imported following the next piece of code shown in the example of this [link.](https://colab.research.google.com/drive/1-gYY4UsVCtldK-pXbGVi-QdBuSunljvN?usp=sharing)"
      ]
    },
    {
      "cell_type": "code",
      "metadata": {
        "colab": {
          "base_uri": "https://localhost:8080/"
        },
        "id": "ZCXmmq-iikXP",
        "outputId": "83709e9b-0e08-4a0f-e345-697877c6eb43"
      },
      "source": [
        "!pip install --upgrade gspread"
      ],
      "execution_count": null,
      "outputs": [
        {
          "output_type": "stream",
          "text": [
            "Collecting gspread\n",
            "  Downloading https://files.pythonhosted.org/packages/df/f0/e345e7159c89b898f183cc40ed9909619475492bb000652d709f395f096a/gspread-3.7.0-py3-none-any.whl\n",
            "Requirement already satisfied, skipping upgrade: google-auth>=1.12.0 in /usr/local/lib/python3.7/dist-packages (from gspread) (1.27.1)\n",
            "Requirement already satisfied, skipping upgrade: google-auth-oauthlib>=0.4.1 in /usr/local/lib/python3.7/dist-packages (from gspread) (0.4.3)\n",
            "Requirement already satisfied, skipping upgrade: cachetools<5.0,>=2.0.0 in /usr/local/lib/python3.7/dist-packages (from google-auth>=1.12.0->gspread) (4.2.1)\n",
            "Requirement already satisfied, skipping upgrade: rsa<5,>=3.1.4; python_version >= \"3.6\" in /usr/local/lib/python3.7/dist-packages (from google-auth>=1.12.0->gspread) (4.7.2)\n",
            "Requirement already satisfied, skipping upgrade: six>=1.9.0 in /usr/local/lib/python3.7/dist-packages (from google-auth>=1.12.0->gspread) (1.15.0)\n",
            "Requirement already satisfied, skipping upgrade: setuptools>=40.3.0 in /usr/local/lib/python3.7/dist-packages (from google-auth>=1.12.0->gspread) (54.1.2)\n",
            "Requirement already satisfied, skipping upgrade: pyasn1-modules>=0.2.1 in /usr/local/lib/python3.7/dist-packages (from google-auth>=1.12.0->gspread) (0.2.8)\n",
            "Requirement already satisfied, skipping upgrade: requests-oauthlib>=0.7.0 in /usr/local/lib/python3.7/dist-packages (from google-auth-oauthlib>=0.4.1->gspread) (1.3.0)\n",
            "Requirement already satisfied, skipping upgrade: pyasn1>=0.1.3 in /usr/local/lib/python3.7/dist-packages (from rsa<5,>=3.1.4; python_version >= \"3.6\"->google-auth>=1.12.0->gspread) (0.4.8)\n",
            "Requirement already satisfied, skipping upgrade: oauthlib>=3.0.0 in /usr/local/lib/python3.7/dist-packages (from requests-oauthlib>=0.7.0->google-auth-oauthlib>=0.4.1->gspread) (3.1.0)\n",
            "Requirement already satisfied, skipping upgrade: requests>=2.0.0 in /usr/local/lib/python3.7/dist-packages (from requests-oauthlib>=0.7.0->google-auth-oauthlib>=0.4.1->gspread) (2.23.0)\n",
            "Requirement already satisfied, skipping upgrade: idna<3,>=2.5 in /usr/local/lib/python3.7/dist-packages (from requests>=2.0.0->requests-oauthlib>=0.7.0->google-auth-oauthlib>=0.4.1->gspread) (2.10)\n",
            "Requirement already satisfied, skipping upgrade: urllib3!=1.25.0,!=1.25.1,<1.26,>=1.21.1 in /usr/local/lib/python3.7/dist-packages (from requests>=2.0.0->requests-oauthlib>=0.7.0->google-auth-oauthlib>=0.4.1->gspread) (1.24.3)\n",
            "Requirement already satisfied, skipping upgrade: chardet<4,>=3.0.2 in /usr/local/lib/python3.7/dist-packages (from requests>=2.0.0->requests-oauthlib>=0.7.0->google-auth-oauthlib>=0.4.1->gspread) (3.0.4)\n",
            "Requirement already satisfied, skipping upgrade: certifi>=2017.4.17 in /usr/local/lib/python3.7/dist-packages (from requests>=2.0.0->requests-oauthlib>=0.7.0->google-auth-oauthlib>=0.4.1->gspread) (2020.12.5)\n",
            "Installing collected packages: gspread\n",
            "  Found existing installation: gspread 3.0.1\n",
            "    Uninstalling gspread-3.0.1:\n",
            "      Successfully uninstalled gspread-3.0.1\n",
            "Successfully installed gspread-3.7.0\n"
          ],
          "name": "stdout"
        }
      ]
    },
    {
      "cell_type": "code",
      "metadata": {
        "id": "Wpv7GMfijRWf"
      },
      "source": [
        "from google.colab import auth\n",
        "auth.authenticate_user()\n",
        "\n",
        "import gspread\n",
        "from oauth2client.client import GoogleCredentials"
      ],
      "execution_count": null,
      "outputs": []
    },
    {
      "cell_type": "code",
      "metadata": {
        "id": "ByE7wRizTUak"
      },
      "source": [
        "gc = gspread.authorize(GoogleCredentials.get_application_default())\n",
        "\n",
        "worksheet = gc.open('DailyHaul').sheet1\n",
        "\n",
        "# get_all_values gives a list of rows.\n",
        "hauling = worksheet.get_all_values()\n",
        "\n",
        "\n",
        "# Convert to a DataFrame and render.\n",
        "import pandas as pd\n",
        "mine_prod = pd.DataFrame(hauling)\n",
        "mine_prod.columns = mine_prod.iloc[0]\n",
        "mine_prod = mine_prod.iloc[1:]"
      ],
      "execution_count": null,
      "outputs": []
    },
    {
      "cell_type": "code",
      "metadata": {
        "colab": {
          "base_uri": "https://localhost:8080/",
          "height": 204
        },
        "id": "eRV6kb2OjzGN",
        "outputId": "d954e5f1-4c9c-4516-b7a1-f6ae49369caf"
      },
      "source": [
        "mine_prod.head()"
      ],
      "execution_count": null,
      "outputs": [
        {
          "output_type": "execute_result",
          "data": {
            "text/html": [
              "<div>\n",
              "<style scoped>\n",
              "    .dataframe tbody tr th:only-of-type {\n",
              "        vertical-align: middle;\n",
              "    }\n",
              "\n",
              "    .dataframe tbody tr th {\n",
              "        vertical-align: top;\n",
              "    }\n",
              "\n",
              "    .dataframe thead th {\n",
              "        text-align: right;\n",
              "    }\n",
              "</style>\n",
              "<table border=\"1\" class=\"dataframe\">\n",
              "  <thead>\n",
              "    <tr style=\"text-align: right;\">\n",
              "      <th></th>\n",
              "      <th>Day</th>\n",
              "      <th>Haul</th>\n",
              "      <th>Material</th>\n",
              "    </tr>\n",
              "  </thead>\n",
              "  <tbody>\n",
              "    <tr>\n",
              "      <th>1</th>\n",
              "      <td>1</td>\n",
              "      <td>56</td>\n",
              "      <td>ob</td>\n",
              "    </tr>\n",
              "    <tr>\n",
              "      <th>2</th>\n",
              "      <td>2</td>\n",
              "      <td>23</td>\n",
              "      <td>ob</td>\n",
              "    </tr>\n",
              "    <tr>\n",
              "      <th>3</th>\n",
              "      <td>3</td>\n",
              "      <td>43</td>\n",
              "      <td>ob</td>\n",
              "    </tr>\n",
              "    <tr>\n",
              "      <th>4</th>\n",
              "      <td>4</td>\n",
              "      <td>64</td>\n",
              "      <td>ob</td>\n",
              "    </tr>\n",
              "    <tr>\n",
              "      <th>5</th>\n",
              "      <td>5</td>\n",
              "      <td>65</td>\n",
              "      <td>ob</td>\n",
              "    </tr>\n",
              "  </tbody>\n",
              "</table>\n",
              "</div>"
            ],
            "text/plain": [
              "0 Day Haul Material\n",
              "1   1   56       ob\n",
              "2   2   23       ob\n",
              "3   3   43       ob\n",
              "4   4   64       ob\n",
              "5   5   65       ob"
            ]
          },
          "metadata": {
            "tags": []
          },
          "execution_count": 3
        }
      ]
    },
    {
      "cell_type": "markdown",
      "metadata": {
        "id": "yT85lGYtmwJa"
      },
      "source": [
        "Because data imported from Google Sheets is identified as object, not a numberic format, it is neccessary to create a new Pandas Dataframe in order to assign numeric types and calculate statistics."
      ]
    },
    {
      "cell_type": "code",
      "metadata": {
        "id": "2kv3zMyRmvpW"
      },
      "source": [
        "df_schema = {\n",
        "    'Day': mine_prod['Day'].astype(int),\n",
        "    'Hauling_units': mine_prod['Haul'].astype(int),\n",
        "    'Material': mine_prod['Material'].astype(str)\n",
        "}"
      ],
      "execution_count": null,
      "outputs": []
    },
    {
      "cell_type": "code",
      "metadata": {
        "id": "c6nrhWVYn92C"
      },
      "source": [
        "daily_haul = pd.DataFrame(df_schema)"
      ],
      "execution_count": null,
      "outputs": []
    },
    {
      "cell_type": "markdown",
      "metadata": {
        "id": "SusKdNDWoTWi"
      },
      "source": [
        "Now let's make sure the dataframe was created correctly and plot the data to determine what type of distribution is the hauling data."
      ]
    },
    {
      "cell_type": "code",
      "metadata": {
        "colab": {
          "base_uri": "https://localhost:8080/",
          "height": 204
        },
        "id": "ylOUyzgPoG_w",
        "outputId": "4daa1e74-1124-4f58-de1f-b83d4dfae2b7"
      },
      "source": [
        "daily_haul.head()"
      ],
      "execution_count": null,
      "outputs": [
        {
          "output_type": "execute_result",
          "data": {
            "text/html": [
              "<div>\n",
              "<style scoped>\n",
              "    .dataframe tbody tr th:only-of-type {\n",
              "        vertical-align: middle;\n",
              "    }\n",
              "\n",
              "    .dataframe tbody tr th {\n",
              "        vertical-align: top;\n",
              "    }\n",
              "\n",
              "    .dataframe thead th {\n",
              "        text-align: right;\n",
              "    }\n",
              "</style>\n",
              "<table border=\"1\" class=\"dataframe\">\n",
              "  <thead>\n",
              "    <tr style=\"text-align: right;\">\n",
              "      <th></th>\n",
              "      <th>Day</th>\n",
              "      <th>Hauling_units</th>\n",
              "      <th>Material</th>\n",
              "    </tr>\n",
              "  </thead>\n",
              "  <tbody>\n",
              "    <tr>\n",
              "      <th>1</th>\n",
              "      <td>1</td>\n",
              "      <td>56</td>\n",
              "      <td>ob</td>\n",
              "    </tr>\n",
              "    <tr>\n",
              "      <th>2</th>\n",
              "      <td>2</td>\n",
              "      <td>23</td>\n",
              "      <td>ob</td>\n",
              "    </tr>\n",
              "    <tr>\n",
              "      <th>3</th>\n",
              "      <td>3</td>\n",
              "      <td>43</td>\n",
              "      <td>ob</td>\n",
              "    </tr>\n",
              "    <tr>\n",
              "      <th>4</th>\n",
              "      <td>4</td>\n",
              "      <td>64</td>\n",
              "      <td>ob</td>\n",
              "    </tr>\n",
              "    <tr>\n",
              "      <th>5</th>\n",
              "      <td>5</td>\n",
              "      <td>65</td>\n",
              "      <td>ob</td>\n",
              "    </tr>\n",
              "  </tbody>\n",
              "</table>\n",
              "</div>"
            ],
            "text/plain": [
              "   Day  Hauling_units Material\n",
              "1    1             56       ob\n",
              "2    2             23       ob\n",
              "3    3             43       ob\n",
              "4    4             64       ob\n",
              "5    5             65       ob"
            ]
          },
          "metadata": {
            "tags": []
          },
          "execution_count": 6
        }
      ]
    },
    {
      "cell_type": "code",
      "metadata": {
        "colab": {
          "base_uri": "https://localhost:8080/"
        },
        "id": "JDRQeRydqSSa",
        "outputId": "c474baaf-406b-49b6-b52a-1d178fb45952"
      },
      "source": [
        "daily_haul['Hauling_units'].describe()"
      ],
      "execution_count": null,
      "outputs": [
        {
          "output_type": "execute_result",
          "data": {
            "text/plain": [
              "count    36.000000\n",
              "mean     50.166667\n",
              "std      15.725321\n",
              "min      11.000000\n",
              "25%      43.000000\n",
              "50%      55.000000\n",
              "75%      63.000000\n",
              "max      66.000000\n",
              "Name: Hauling_units, dtype: float64"
            ]
          },
          "metadata": {
            "tags": []
          },
          "execution_count": 7
        }
      ]
    },
    {
      "cell_type": "code",
      "metadata": {
        "colab": {
          "base_uri": "https://localhost:8080/",
          "height": 265
        },
        "id": "8KP-iTEkqjhR",
        "outputId": "66708352-2079-4b37-9d16-fb556d385e31"
      },
      "source": [
        "lines = daily_haul['Hauling_units'].plot.line()"
      ],
      "execution_count": null,
      "outputs": [
        {
          "output_type": "display_data",
          "data": {
            "image/png": "[encoded data removed]",
            "text/plain": [
              "<Figure size 432x288 with 1 Axes>"
            ]
          },
          "metadata": {
            "tags": [],
            "needs_background": "light"
          }
        }
      ]
    },
    {
      "cell_type": "code",
      "metadata": {
        "colab": {
          "base_uri": "https://localhost:8080/"
        },
        "id": "uP8yg1AtsS2M",
        "outputId": "eb578a68-f8e9-4033-e67d-3c46037f67a4"
      },
      "source": [
        "bin_width = round((daily_haul['Hauling_units'].max() - daily_haul['Hauling_units'].min())/10)\n",
        "print(bin_width)"
      ],
      "execution_count": null,
      "outputs": [
        {
          "output_type": "stream",
          "text": [
            "6\n"
          ],
          "name": "stdout"
        }
      ]
    },
    {
      "cell_type": "code",
      "metadata": {
        "colab": {
          "base_uri": "https://localhost:8080/",
          "height": 265
        },
        "id": "Yu2Xqqz6rZUq",
        "outputId": "a46dadf3-0ff7-4aaa-ea50-4f4ecb3ab934"
      },
      "source": [
        "haul_hist = daily_haul['Hauling_units'].plot.hist(bins=bin_width)"
      ],
      "execution_count": null,
      "outputs": [
        {
          "output_type": "display_data",
          "data": {
            "image/png": "[encoded data removed]",
            "text/plain": [
              "<Figure size 432x288 with 1 Axes>"
            ]
          },
          "metadata": {
            "tags": [],
            "needs_background": "light"
          }
        }
      ]
    },
    {
      "cell_type": "markdown",
      "metadata": {
        "id": "_sbesJKWx4jW"
      },
      "source": [
        "In order to generate the random numbers for the excavator (see below), the Coefficient of Variation would be calculated. If CV <= 0.3 then the distribution would be normal, otherwise the random numbers would be generated from a lognormal distribution. In both cases the mean and standard deviation are used as input."
      ]
    },
    {
      "cell_type": "code",
      "metadata": {
        "colab": {
          "base_uri": "https://localhost:8080/"
        },
        "id": "UCfXzCmvTpMS",
        "outputId": "2da24910-1a84-406f-f9c5-228f1c599768"
      },
      "source": [
        "# Calculating the mean\n",
        "\n",
        "mean_haul = daily_haul['Hauling_units'].mean()\n",
        "print (mean_haul)"
      ],
      "execution_count": null,
      "outputs": [
        {
          "output_type": "stream",
          "text": [
            "50.166666666666664\n"
          ],
          "name": "stdout"
        }
      ]
    },
    {
      "cell_type": "code",
      "metadata": {
        "colab": {
          "base_uri": "https://localhost:8080/"
        },
        "id": "cqVg0zMAT8Cn",
        "outputId": "695f5a7b-d441-49d7-b415-e8e0e62b6ec2"
      },
      "source": [
        "# Calculating the standard deviation\n",
        "\n",
        "std_dev_haul = daily_haul['Hauling_units'].std()\n",
        "print (std_dev_haul)"
      ],
      "execution_count": null,
      "outputs": [
        {
          "output_type": "stream",
          "text": [
            "15.725320800724997\n"
          ],
          "name": "stdout"
        }
      ]
    },
    {
      "cell_type": "code",
      "metadata": {
        "colab": {
          "base_uri": "https://localhost:8080/"
        },
        "id": "9GXojLfUUSj1",
        "outputId": "959aeac0-4974-4a6c-f31e-90e0308f0203"
      },
      "source": [
        "# Calculating the CV\n",
        "\n",
        "cov_haul = daily_haul['Hauling_units'].std() / daily_haul['Hauling_units'].mean()\n",
        "\n",
        "print (cov_haul)\n"
      ],
      "execution_count": null,
      "outputs": [
        {
          "output_type": "stream",
          "text": [
            "0.3134615442004983\n"
          ],
          "name": "stdout"
        }
      ]
    },
    {
      "cell_type": "markdown",
      "metadata": {
        "id": "zXm-My8tqb5n"
      },
      "source": [
        "# Classes defitions"
      ]
    },
    {
      "cell_type": "markdown",
      "metadata": {
        "id": "1CdbgsvCHqoc"
      },
      "source": [
        "To start, let's define the seams and their attributes using a Seam class."
      ]
    },
    {
      "cell_type": "code",
      "metadata": {
        "id": "wisvH4jH_fI0"
      },
      "source": [
        "class Seam():\n",
        "\n",
        "  def __init__(self, seam, volume, units, mining_sequence, ore_type, to_stk = 0, to_dump = 0):\n",
        "\n",
        "    self.seam = seam\n",
        "    self.volume = volume\n",
        "    self.units = units\n",
        "    self.mining_sequence = mining_sequence\n",
        "    self.ore_type = ore_type\n",
        "    self.to_stk = to_stk\n",
        "    self.to_dump = to_dump\n",
        "\n",
        "\n",
        "  def update_volume(self, daily_dig):\n",
        "    self.volume -= daily_dig\n",
        "    if self.ore_type == 'ore': \n",
        "      if self.volume > 0:\n",
        "        self.to_stk = daily_dig\n",
        "      else:\n",
        "        self.to_stk = 0\n",
        "    else:\n",
        "      self.to_dump = daily_dig\n",
        "\n",
        "  def show_volume(self):\n",
        "    print(self.seam + \" volume is \" + str(self.volume) + self.units)    "
      ],
      "execution_count": null,
      "outputs": []
    },
    {
      "cell_type": "markdown",
      "metadata": {
        "id": "dLEdaJ_EN7Ly"
      },
      "source": [
        "Let's test if the Seam class is working by creating the overburden seam."
      ]
    },
    {
      "cell_type": "code",
      "metadata": {
        "colab": {
          "base_uri": "https://localhost:8080/"
        },
        "id": "0sjrRUNTOAK3",
        "outputId": "6e1e1caa-75db-4a67-ba5e-29e2abd347a5"
      },
      "source": [
        "ob = Seam('Overburden', 5000, 'm3', 'seq1', 'waste')\n",
        "ob.show_volume()"
      ],
      "execution_count": null,
      "outputs": [
        {
          "output_type": "stream",
          "text": [
            "Overburden volume is 5000m3\n"
          ],
          "name": "stdout"
        }
      ]
    },
    {
      "cell_type": "markdown",
      "metadata": {
        "id": "Pk6AsqnxOaQq"
      },
      "source": [
        "Now that the overburden is created, let's add three more seams, two are ore material and an innerburden seam."
      ]
    },
    {
      "cell_type": "code",
      "metadata": {
        "colab": {
          "base_uri": "https://localhost:8080/"
        },
        "id": "xLboOxsOOlhD",
        "outputId": "3abc981a-19d8-4f8a-e740-46f6ad1cdfc7"
      },
      "source": [
        "seam1 = Seam('Seam1', 3470, 'm3', 'seq2', 'ore')\n",
        "seam1.show_volume()"
      ],
      "execution_count": null,
      "outputs": [
        {
          "output_type": "stream",
          "text": [
            "Seam1 volume is 3470m3\n"
          ],
          "name": "stdout"
        }
      ]
    },
    {
      "cell_type": "code",
      "metadata": {
        "colab": {
          "base_uri": "https://localhost:8080/"
        },
        "id": "DrQLzR8UO-J0",
        "outputId": "a6865336-b4f4-4d95-806f-133624e858d5"
      },
      "source": [
        "seam2 = Seam('Seam2', 1250, 'm3', 'seq3', 'waste')\n",
        "seam2.show_volume()"
      ],
      "execution_count": null,
      "outputs": [
        {
          "output_type": "stream",
          "text": [
            "Seam2 volume is 1250m3\n"
          ],
          "name": "stdout"
        }
      ]
    },
    {
      "cell_type": "code",
      "metadata": {
        "colab": {
          "base_uri": "https://localhost:8080/"
        },
        "id": "KU41BOKZPFWG",
        "outputId": "b922110d-0254-4f8a-ff0c-423578bfd139"
      },
      "source": [
        "seam3 = Seam('Seam3', 2290, 'm3', 'seq4', 'ore')\n",
        "seam3.show_volume()"
      ],
      "execution_count": null,
      "outputs": [
        {
          "output_type": "stream",
          "text": [
            "Seam3 volume is 2290m3\n"
          ],
          "name": "stdout"
        }
      ]
    },
    {
      "cell_type": "markdown",
      "metadata": {
        "id": "vf_8K8GgIYPo"
      },
      "source": [
        "Next step would be to create the excavator. Because the excavator is a key element of our operation (basically, without it we coulnd't mine, right?) it will be modeled using a class, also to include more functionality to it later on if needed. For the turn_on_excavator method the data from the \"Daily Haul\" spreadsheet will be used to do the simulations with the most up to date data. Also, note that the CV would be used as a guide to choose the distribution type to generate the random numbers."
      ]
    },
    {
      "cell_type": "code",
      "metadata": {
        "id": "47SX5kJR2oRh"
      },
      "source": [
        "import random\n",
        "\n",
        "class Excavator():\n",
        "\n",
        "  def __init__(self, make, bucket_size, bucket_units, odometer, excavator_id, daily_production, status):\n",
        "\n",
        "    self.make = make\n",
        "    self.bucket_size = bucket_size\n",
        "    self.bucket_units = bucket_units\n",
        "    self.odometer = odometer\n",
        "    self.excavator_id = excavator_id\n",
        "    self.daily_production = daily_production\n",
        "    self.status = status\n",
        "\n",
        "  def update_odometer (self, daily_hours):\n",
        "    self.odometer += daily_hours\n",
        "  \n",
        "  def update_production (self, daily_dig):\n",
        "    self.daily_production = daily_dig\n",
        "\n",
        "  def turn_on_excavator(self, day, cv, mean, std):\n",
        "    working_day = day % 7\n",
        "    if working_day == 0:\n",
        "      self.status = 'off'\n",
        "      self.daily_production = 0\n",
        "    else:\n",
        "      self.status = 'on'\n",
        "      if cv <= 0.3:\n",
        "        self.daily_production = int(random.gauss(mean, std))\n",
        "      else:\n",
        "        self.daily_production = int(random.weibullvariate(mean, std))\n"
      ],
      "execution_count": null,
      "outputs": []
    },
    {
      "cell_type": "markdown",
      "metadata": {
        "id": "BYEYND3oUEUj"
      },
      "source": [
        "Next let's define the stockpile object."
      ]
    },
    {
      "cell_type": "code",
      "metadata": {
        "id": "gDmUr06WqZER"
      },
      "source": [
        "class Stockpile():\n",
        "\n",
        "  def __init__(self, grade, volume, units, status):\n",
        "    self.grade = grade\n",
        "    self.volume = volume\n",
        "    self.units = units\n",
        "    self.status = status\n",
        "\n",
        "  def update_volume_from_mining(self, hauling, recovery = 0.8):\n",
        "    self.volume += int(hauling * recovery)\n",
        "\n",
        "  def ship_to_silo(self, plant_silo):\n",
        "    self.volume -= plant_silo\n",
        "\n",
        "  def show_stockpile(self):\n",
        "    print(\"Stockpile volume is \" + str(self.volume))\n",
        "\n",
        "  def update_status(self):\n",
        "    if self.volume <= 0:\n",
        "      self.status = 'empty'\n",
        "    else:\n",
        "      self.status = 'with ore'\n",
        "\n",
        "  def reset_volume(self):\n",
        "    self.volume = 0"
      ],
      "execution_count": null,
      "outputs": []
    },
    {
      "cell_type": "markdown",
      "metadata": {
        "id": "XBT4JtSLYZZT"
      },
      "source": [
        "To conclude, a class plant is going to be created."
      ]
    },
    {
      "cell_type": "code",
      "metadata": {
        "id": "dmgpLYWOYjYF"
      },
      "source": [
        "class Plant():\n",
        "\n",
        "\n",
        "  def __init__(self, volume_silo, process_recovery, final_product_inventory, plant_status, silo_capacity, shipped_from_stk, silo_status = 'empty'):\n",
        "    self.volume_silo = volume_silo\n",
        "    self.process_recovery = process_recovery\n",
        "    self.final_product_inventory = final_product_inventory\n",
        "    self.plant_status = plant_status\n",
        "    self.silo_capacity = silo_capacity\n",
        "    self.shipped_from_stk = shipped_from_stk\n",
        "    self.silo_status = silo_status\n",
        "\n",
        "  def update_silo_status(self):\n",
        "    if self.volume_silo <= 0:\n",
        "      self.silo_status = 'empty'\n",
        "    elif self.volume_silo <= 100:\n",
        "      self.silo_status = 'low level'\n",
        "    else:\n",
        "      self.silo_status = 'Operational level'\n",
        "\n",
        "\n",
        "  def feed_from_stockpile(self, stk, plant_feed):\n",
        "    if stk > self.silo_capacity:\n",
        "      if self.plant_status == 'waiting':\n",
        "        self.shipped_from_stk = self.silo_capacity - self.volume_silo\n",
        "        self.volume_silo = self.volume_silo + (self.silo_capacity - self.volume_silo)\n",
        "      elif self.plant_status != 'waiting':\n",
        "        self.shipped_from_stk = self.silo_capacity - self.volume_silo\n",
        "        self.volume_silo = self.volume_silo + (self.silo_capacity - self.volume_silo)\n",
        "      else:\n",
        "        self.shipped_from_stk = 0\n",
        "        self.volume_silo += 0\n",
        "    elif stk > plant_feed:\n",
        "      need_ore = self.silo_capacity - self.volume_silo\n",
        "      if self.plant_status == 'waiting':\n",
        "        self.shipped_from_stk = 0\n",
        "        self.volume_silo += 0\n",
        "      elif need_ore > stk:\n",
        "        self.shipped_from_stk = stk\n",
        "        self.volume_silo += stk\n",
        "      else:\n",
        "        self.shipped_from_stk = need_ore\n",
        "        self.volume_silo += need_ore\n",
        "    elif stk > 0 and stk < plant_feed:\n",
        "      if self.plant_status == 'waiting':\n",
        "        self.shipped_from_stk = 0\n",
        "        self.volume_silo += 0\n",
        "      else:\n",
        "        self.shipped_from_stk = stk\n",
        "        self.volume_silo += stk\n",
        "    else:\n",
        "      self.shipped_from_stk = 0\n",
        "      self.volume_silo = 0\n",
        "\n",
        "  def update_plant_status(self, ore_in_ground, stk):\n",
        "    if ore_in_ground > 500:\n",
        "      self.plant_status = 'waiting'\n",
        "    elif ore_in_ground > 0:\n",
        "      self.plant_status = 'Operational_level'\n",
        "    elif stk > 0:\n",
        "      self.plant_status = 'Operational level'\n",
        "    elif self.volume_silo > 0:\n",
        "      self.plant_status = 'Operational level'\n",
        "    else:\n",
        "      self.plant_status = 'stopped'\n",
        "\n",
        "  def plant_production(self, daily_feed):\n",
        "    if self.volume_silo >= daily_feed:\n",
        "      self.volume_silo -= daily_feed\n",
        "      self.final_product_inventory = int(self.final_product_inventory + (daily_feed * self.process_recovery))\n",
        "    elif self.volume_silo > 0 and self.volume_silo < daily_feed:\n",
        "      available_in_silo = self.volume_silo\n",
        "      self.volume_silo -= available_in_silo\n",
        "      self.final_product_inventory = int(self.final_product_inventory + (available_in_silo * self.process_recovery))\n",
        "    else:\n",
        "      self.volume_silo -= 0\n",
        "      self.final_product_inventory = int(self.final_product_inventory + (0 * self.process_recovery))"
      ],
      "execution_count": null,
      "outputs": []
    },
    {
      "cell_type": "markdown",
      "metadata": {
        "id": "D_1m3_Rs_LqK"
      },
      "source": [
        "Below is the definition of the Plant class used in the simulation."
      ]
    },
    {
      "cell_type": "code",
      "metadata": {
        "colab": {
          "base_uri": "https://localhost:8080/"
        },
        "id": "t92mitjTgAd5",
        "outputId": "46941ef1-d80e-433a-b84d-14708717911a"
      },
      "source": [
        "plant1 = Plant(0, .815, 0, 'waiting', 500, 0)\n",
        "print(plant1.plant_status)\n",
        "print(plant1.volume_silo)\n",
        "print(plant1.silo_status)"
      ],
      "execution_count": null,
      "outputs": [
        {
          "output_type": "stream",
          "text": [
            "waiting\n",
            "0\n",
            "empty\n"
          ],
          "name": "stdout"
        }
      ]
    },
    {
      "cell_type": "markdown",
      "metadata": {
        "id": "LgH29okluyJH"
      },
      "source": [
        "Now is time to create the excavator using the Excavator class defined early. For this example we are just saying that the excavator is brand new, ie, motor has \"0\" hours running and no daily production. Note that odometer is not included in the modeling."
      ]
    },
    {
      "cell_type": "code",
      "metadata": {
        "id": "Td0o5OxzxBJW",
        "colab": {
          "base_uri": "https://localhost:8080/"
        },
        "outputId": "f78bec6a-3f53-453a-9822-001605492558"
      },
      "source": [
        "excavator1 = Excavator('Cat', 1, 'm3', 0, 'cat1', 0, 'off')\n",
        "print(excavator1.daily_production)\n",
        "print(excavator1.status)"
      ],
      "execution_count": null,
      "outputs": [
        {
          "output_type": "stream",
          "text": [
            "0\n",
            "off\n"
          ],
          "name": "stdout"
        }
      ]
    },
    {
      "cell_type": "markdown",
      "metadata": {
        "id": "TPzX-JRc0qfs"
      },
      "source": [
        "The next in the line is to create a stockpile with the class of same name, and show the stockpile volume."
      ]
    },
    {
      "cell_type": "code",
      "metadata": {
        "id": "OJUkGk3h08UX"
      },
      "source": [
        "stk1 = Stockpile('Grade1', 0, 'm3', 'empty')"
      ],
      "execution_count": null,
      "outputs": []
    },
    {
      "cell_type": "code",
      "metadata": {
        "colab": {
          "base_uri": "https://localhost:8080/"
        },
        "id": "8mo34kC036x9",
        "outputId": "2836c1b6-ee5d-4f53-b4c2-af92da563eb1"
      },
      "source": [
        "stk1.show_stockpile()"
      ],
      "execution_count": null,
      "outputs": [
        {
          "output_type": "stream",
          "text": [
            "Stockpile volume is 0\n"
          ],
          "name": "stdout"
        }
      ]
    },
    {
      "cell_type": "markdown",
      "metadata": {
        "id": "lq7be50_oiBU"
      },
      "source": [
        "# Tracking changes"
      ]
    },
    {
      "cell_type": "markdown",
      "metadata": {
        "id": "6YCzGpTS38Zn"
      },
      "source": [
        "In order to track down the changes in volumes, in the seams and stockpiles, as well as the daily production from the excavator, a series of lists are created to save the volumes. Note: there maybe a most efficiente way to keep track of the changes in volumes by include a method on the classes."
      ]
    },
    {
      "cell_type": "code",
      "metadata": {
        "colab": {
          "base_uri": "https://localhost:8080/"
        },
        "id": "xJLjz-aQ4ceZ",
        "outputId": "7cf7d7d8-3475-4006-dd39-4f214e5173cb"
      },
      "source": [
        "ob_volumes = []\n",
        "ob_volumes.append(ob.volume)\n",
        "print (ob_volumes)\n"
      ],
      "execution_count": null,
      "outputs": [
        {
          "output_type": "stream",
          "text": [
            "[5000]\n"
          ],
          "name": "stdout"
        }
      ]
    },
    {
      "cell_type": "code",
      "metadata": {
        "colab": {
          "base_uri": "https://localhost:8080/"
        },
        "id": "l5TTUzkX4_gq",
        "outputId": "a0c47b18-0c75-4fef-94e4-8a63585c67c3"
      },
      "source": [
        "seam1_volumes = []\n",
        "seam1_volumes.append(seam1.volume)\n",
        "print (seam1_volumes)"
      ],
      "execution_count": null,
      "outputs": [
        {
          "output_type": "stream",
          "text": [
            "[3470]\n"
          ],
          "name": "stdout"
        }
      ]
    },
    {
      "cell_type": "code",
      "metadata": {
        "colab": {
          "base_uri": "https://localhost:8080/"
        },
        "id": "lvfqb_co5J_D",
        "outputId": "75f1b2d7-6775-4e70-ceed-9229e392d5a9"
      },
      "source": [
        "seam2_volumes = []\n",
        "seam2_volumes.append(seam2.volume)\n",
        "print (seam2_volumes)"
      ],
      "execution_count": null,
      "outputs": [
        {
          "output_type": "stream",
          "text": [
            "[1250]\n"
          ],
          "name": "stdout"
        }
      ]
    },
    {
      "cell_type": "code",
      "metadata": {
        "colab": {
          "base_uri": "https://localhost:8080/"
        },
        "id": "QOjy34vR5Tmx",
        "outputId": "057e8602-4d19-4070-844c-225be0773ef2"
      },
      "source": [
        "seam3_volumes = []\n",
        "seam3_volumes.append(seam3.volume)\n",
        "print (seam3_volumes)"
      ],
      "execution_count": null,
      "outputs": [
        {
          "output_type": "stream",
          "text": [
            "[2290]\n"
          ],
          "name": "stdout"
        }
      ]
    },
    {
      "cell_type": "code",
      "metadata": {
        "colab": {
          "base_uri": "https://localhost:8080/"
        },
        "id": "WxNhtm-06G4t",
        "outputId": "89325d43-093c-422f-9d83-e6c5260bc943"
      },
      "source": [
        "stk1_volumes = []\n",
        "print (stk1_volumes)"
      ],
      "execution_count": null,
      "outputs": [
        {
          "output_type": "stream",
          "text": [
            "[]\n"
          ],
          "name": "stdout"
        }
      ]
    },
    {
      "cell_type": "code",
      "metadata": {
        "id": "ttSpx9Zp8jIs",
        "colab": {
          "base_uri": "https://localhost:8080/"
        },
        "outputId": "4804e19c-a782-415f-c7ce-bf3ca7730668"
      },
      "source": [
        "daily_mine_production = []\n",
        "print(daily_mine_production)"
      ],
      "execution_count": null,
      "outputs": [
        {
          "output_type": "stream",
          "text": [
            "[]\n"
          ],
          "name": "stdout"
        }
      ]
    },
    {
      "cell_type": "code",
      "metadata": {
        "colab": {
          "base_uri": "https://localhost:8080/"
        },
        "id": "oFJ2ZEFXggHX",
        "outputId": "e2a8d9d8-7438-4f1a-a2f9-f405c1ca6e1c"
      },
      "source": [
        "inventory_levels = []\n",
        "print(inventory_levels)"
      ],
      "execution_count": null,
      "outputs": [
        {
          "output_type": "stream",
          "text": [
            "[]\n"
          ],
          "name": "stdout"
        }
      ]
    },
    {
      "cell_type": "code",
      "metadata": {
        "colab": {
          "base_uri": "https://localhost:8080/"
        },
        "id": "riNViubSqxa-",
        "outputId": "3f2de0ce-b6c5-41e4-db73-675b191a4f8f"
      },
      "source": [
        "silo_status = []\n",
        "print(silo_status)"
      ],
      "execution_count": null,
      "outputs": [
        {
          "output_type": "stream",
          "text": [
            "[]\n"
          ],
          "name": "stdout"
        }
      ]
    },
    {
      "cell_type": "code",
      "metadata": {
        "colab": {
          "base_uri": "https://localhost:8080/"
        },
        "id": "Hs51LADosG0b",
        "outputId": "6d9ff556-c747-4024-a44d-c4d4ecea1648"
      },
      "source": [
        "feed_from_stk = []\n",
        "print(feed_from_stk)"
      ],
      "execution_count": null,
      "outputs": [
        {
          "output_type": "stream",
          "text": [
            "[]\n"
          ],
          "name": "stdout"
        }
      ]
    },
    {
      "cell_type": "code",
      "metadata": {
        "colab": {
          "base_uri": "https://localhost:8080/"
        },
        "id": "TvvPWVbovtZt",
        "outputId": "53d3b707-fe2c-42c8-9092-f3ce858955a1"
      },
      "source": [
        "track_silo_volume = []\n",
        "print(track_silo_volume)"
      ],
      "execution_count": null,
      "outputs": [
        {
          "output_type": "stream",
          "text": [
            "[]\n"
          ],
          "name": "stdout"
        }
      ]
    },
    {
      "cell_type": "code",
      "metadata": {
        "colab": {
          "base_uri": "https://localhost:8080/"
        },
        "id": "wMs21fmXO3_7",
        "outputId": "fe75c45f-d9e9-4f79-e1ad-f1dbe85dae3c"
      },
      "source": [
        "track_plant_status = []\n",
        "print(track_plant_status)"
      ],
      "execution_count": null,
      "outputs": [
        {
          "output_type": "stream",
          "text": [
            "[]\n"
          ],
          "name": "stdout"
        }
      ]
    },
    {
      "cell_type": "code",
      "metadata": {
        "id": "yS4wYZ0FUD9e"
      },
      "source": [
        "days_track_overburden = []\n",
        "days_track_seam1 = []\n",
        "days_track_seam2 = []\n",
        "days_track_seam3 = []\n",
        "days_track_stk = []\n",
        "days_track_silo = []"
      ],
      "execution_count": null,
      "outputs": []
    },
    {
      "cell_type": "markdown",
      "metadata": {
        "id": "Djhqixswl6bR"
      },
      "source": [
        "# Mining Function\n",
        "\n",
        "Before proceeding to the simulation, a function to do the mining is prepared"
      ]
    },
    {
      "cell_type": "code",
      "metadata": {
        "id": "ojYbutDgnOyH"
      },
      "source": [
        "def mining(excavator, obd, s1, s2, s3):\n",
        "  if obd > 0:\n",
        "    if obd > excavator:\n",
        "      ob.update_volume(excavator)\n",
        "      ob_volumes.append(ob.volume)\n",
        "    elif obd > 0 and obd < excavator:\n",
        "      x = obd\n",
        "      y = excavator - obd\n",
        "      ob.update_volume(x)\n",
        "      seam1.update_volume(y)\n",
        "      ob_volumes.append(ob.volume)\n",
        "      seam1_volumes.append(seam1.volume)\n",
        "    else:\n",
        "      ob.update_volume(0)\n",
        "      ob_volumes.append(ob.volume)\n",
        "  elif s1 > 0:\n",
        "    if s1 > excavator:\n",
        "      seam1.update_volume(excavator)\n",
        "      seam1_volumes.append(seam1.volume)\n",
        "    elif s1 > 0 and s1 < excavator:\n",
        "      x = s1\n",
        "      y = excavator - s1\n",
        "      seam1.update_volume(x)\n",
        "      seam2.update_volume(y)\n",
        "      seam1_volumes.append(seam1.volume)\n",
        "      seam2_volumes.append(seam2.volume)\n",
        "    else:\n",
        "      seam1.update_volume(0)\n",
        "      seam1_volumes.append(seam1.volume)\n",
        "  elif s2 > 0:\n",
        "    if s2 > excavator:\n",
        "      seam2.update_volume(excavator)\n",
        "      seam2_volumes.append(seam2.volume)\n",
        "    elif s2 > 0 and s2 < excavator:\n",
        "      x = s2\n",
        "      y = excavator - s2\n",
        "      seam2.update_volume(x)\n",
        "      seam3.update_volume(y)\n",
        "      seam2_volumes.append(seam2.volume)\n",
        "      seam3_volumes.append(seam3.volume)\n",
        "    else:\n",
        "      seam2.update_volume(0)\n",
        "      seam2_volumes.append(seam2.volume)\n",
        "  elif s3 > 0:\n",
        "    if s3 > excavator:\n",
        "      seam3.update_volume(excavator)\n",
        "      seam3_volumes.append(seam3.volume)\n",
        "    elif s3 > 0 and s3 < excavator:\n",
        "      x = s3\n",
        "      y = excavator - s3\n",
        "      seam3.update_volume(x)\n",
        "      seam3_volumes.append(seam3.volume)\n",
        "    else:\n",
        "      seam3.update_volume(0)\n",
        "      seam3_volumes.append(seam3.volume)\n",
        "  else:\n",
        "    pass "
      ],
      "execution_count": null,
      "outputs": []
    },
    {
      "cell_type": "markdown",
      "metadata": {
        "id": "TTJvmlzYo-Zh"
      },
      "source": [
        "# Simulating the mine operation"
      ]
    },
    {
      "cell_type": "markdown",
      "metadata": {
        "id": "SqZzgNT28yzO"
      },
      "source": [
        "Now that the main objects of the mine are defined, as well as the lists that will track volumes evolution and days, it is time to do a simple simulation. The approach for time advance is fixed increment time advance (1 day). \n",
        "\n",
        "The assumption is, once that ore is available in the stockpile, it will feed a silo with a capacity of 500 units. The silo then feeds the plant with a daily input of 35 units.\n",
        "\n",
        "Again, let's remember that the objective of the simulation is to investigate how is the mine operation using one excavator, how fast do we deplete the cut (hence, how fast do we need to have another supply), stockpile and silo. \n",
        "\n",
        "A series of if then statements were used to run the simulation, some of them are repetitive. It is clear that an opportunity to improve the simulation, for example, creating a mining function -just to mention one-, exists. "
      ]
    },
    {
      "cell_type": "code",
      "metadata": {
        "id": "Mq8IooVgFMOu"
      },
      "source": [
        "\n",
        "initial_day = 0\n",
        "plant_feed = 35\n",
        "\n",
        "while True:\n",
        "  \n",
        "    initial_day +=1\n",
        "    ore_in_ground = seam1.volume + seam2.volume + seam3.volume\n",
        "\n",
        "    if plant1.plant_status != 'stopped':\n",
        "\n",
        "      excavator1.turn_on_excavator(initial_day, cov_haul, mean_haul, std_dev_haul)\n",
        "      mining(excavator1.daily_production, ob.volume, seam1.volume, seam2.volume, seam3.volume)\n",
        "      daily_mine_production.append(excavator1.daily_production)\n",
        "      for_stk = seam1.to_stk + seam2.to_stk + seam3.to_stk\n",
        "      stk1.update_volume_from_mining(for_stk)\n",
        "      plant1.feed_from_stockpile(stk1.volume, plant_feed)\n",
        "      stk1.ship_to_silo(plant1.shipped_from_stk)\n",
        "      stk1_volumes.append(stk1.volume)\n",
        "      stk1.update_status()\n",
        "      feed_from_stk.append(plant1.shipped_from_stk)\n",
        "      plant1.plant_production(plant_feed)\n",
        "      inventory_levels.append(plant1.final_product_inventory)\n",
        "      plant1.update_silo_status()\n",
        "      plant1.update_plant_status(ore_in_ground, stk1.volume)\n",
        "      silo_status.append(plant1.silo_status)\n",
        "      track_silo_volume.append(plant1.volume_silo)\n",
        "      track_plant_status.append(plant1.plant_status)\n",
        "      days_track_silo.append(initial_day)\n",
        "  \n",
        "    else:\n",
        "      break"
      ],
      "execution_count": null,
      "outputs": []
    },
    {
      "cell_type": "code",
      "metadata": {
        "colab": {
          "base_uri": "https://localhost:8080/"
        },
        "id": "yD7iYVRQxx08",
        "outputId": "43825221-e5f4-4f35-e54e-1c23a11d2163"
      },
      "source": [
        "print(ore_in_ground)"
      ],
      "execution_count": null,
      "outputs": [
        {
          "output_type": "stream",
          "text": [
            "0\n"
          ],
          "name": "stdout"
        }
      ]
    },
    {
      "cell_type": "code",
      "metadata": {
        "colab": {
          "base_uri": "https://localhost:8080/"
        },
        "id": "l7alV7DT3ktZ",
        "outputId": "f438d2ce-e9f8-4bc3-97af-c963f7558a39"
      },
      "source": [
        "print(ob_volumes)\n",
        "print(seam1_volumes)\n",
        "print(seam2_volumes)\n",
        "print(seam3_volumes)"
      ],
      "execution_count": null,
      "outputs": [
        {
          "output_type": "stream",
          "text": [
            "[5000, 4950, 4897, 4850, 4803, 4755, 4710, 4710, 4655, 4607, 4555, 4502, 4459, 4409, 4409, 4358, 4311, 4259, 4211, 4164, 4122, 4122, 4076, 4027, 3973, 3927, 3886, 3838, 3838, 3792, 3747, 3701, 3653, 3602, 3552, 3552, 3502, 3456, 3403, 3357, 3312, 3263, 3263, 3210, 3159, 3112, 3061, 3014, 2965, 2965, 2912, 2861, 2810, 2757, 2713, 2661, 2661, 2613, 2566, 2514, 2470, 2418, 2372, 2372, 2325, 2276, 2226, 2174, 2124, 2074, 2074, 2027, 1980, 1937, 1886, 1839, 1787, 1787, 1739, 1689, 1651, 1601, 1559, 1507, 1507, 1453, 1409, 1361, 1318, 1274, 1220, 1220, 1180, 1134, 1085, 1035, 986, 934, 934, 889, 846, 795, 749, 699, 649, 649, 603, 556, 503, 456, 405, 354, 354, 307, 258, 212, 165, 117, 72, 72, 23, 0]\n",
            "[3470, 3442, 3388, 3342, 3295, 3247, 3247, 3200, 3151, 3105, 3054, 3005, 2962, 2962, 2914, 2867, 2813, 2759, 2709, 2657, 2657, 2607, 2567, 2514, 2465, 2415, 2363, 2363, 2316, 2267, 2221, 2180, 2129, 2087, 2087, 2035, 1983, 1935, 1887, 1837, 1790, 1790, 1742, 1710, 1664, 1610, 1565, 1515, 1515, 1465, 1422, 1372, 1323, 1279, 1236, 1236, 1185, 1141, 1090, 1045, 1000, 949, 949, 904, 855, 811, 759, 717, 672, 672, 627, 576, 529, 477, 421, 371, 371, 327, 278, 233, 184, 136, 94, 94, 46, 0]\n",
            "[1250, 1247, 1198, 1146, 1096, 1051, 1051, 1000, 945, 896, 848, 795, 744, 744, 692, 639, 593, 544, 494, 443, 443, 394, 340, 293, 248, 204, 153, 153, 108, 64, 12, 0]\n",
            "[2290, 2254, 2203, 2155, 2155, 2107, 2060, 2010, 1963, 1914, 1860, 1860, 1805, 1757, 1705, 1655, 1615, 1572, 1572, 1524, 1477, 1421, 1371, 1327, 1278, 1278, 1225, 1180, 1133, 1084, 1032, 984, 984, 935, 890, 838, 794, 744, 697, 697, 645, 594, 548, 501, 450, 401, 401, 354, 308, 262, 214, 161, 113, 113, 74, 21, 0]\n"
          ],
          "name": "stdout"
        }
      ]
    },
    {
      "cell_type": "code",
      "metadata": {
        "colab": {
          "base_uri": "https://localhost:8080/"
        },
        "id": "SB6wMKFW8rqf",
        "outputId": "4133f5fb-856c-433c-bc04-874a2bedf945"
      },
      "source": [
        "print(for_stk)"
      ],
      "execution_count": null,
      "outputs": [
        {
          "output_type": "stream",
          "text": [
            "0\n"
          ],
          "name": "stdout"
        }
      ]
    },
    {
      "cell_type": "code",
      "metadata": {
        "colab": {
          "base_uri": "https://localhost:8080/"
        },
        "id": "XM3XIkao81nq",
        "outputId": "2822aed7-6b20-4aeb-d3c7-2a742d4a3461"
      },
      "source": [
        "print(seam1.to_stk)"
      ],
      "execution_count": null,
      "outputs": [
        {
          "output_type": "stream",
          "text": [
            "0\n"
          ],
          "name": "stdout"
        }
      ]
    },
    {
      "cell_type": "code",
      "metadata": {
        "colab": {
          "base_uri": "https://localhost:8080/"
        },
        "id": "EghwWo_687ho",
        "outputId": "51a55b10-e4f6-4af1-9fa2-b31ec763fca7"
      },
      "source": [
        "print(seam2.to_stk)"
      ],
      "execution_count": null,
      "outputs": [
        {
          "output_type": "stream",
          "text": [
            "0\n"
          ],
          "name": "stdout"
        }
      ]
    },
    {
      "cell_type": "code",
      "metadata": {
        "colab": {
          "base_uri": "https://localhost:8080/"
        },
        "id": "9jbUQaKe8_L1",
        "outputId": "e0cf18b5-c087-4c61-925b-941bbe26fab4"
      },
      "source": [
        "print(seam3.to_stk)"
      ],
      "execution_count": null,
      "outputs": [
        {
          "output_type": "stream",
          "text": [
            "0\n"
          ],
          "name": "stdout"
        }
      ]
    },
    {
      "cell_type": "code",
      "metadata": {
        "colab": {
          "base_uri": "https://localhost:8080/"
        },
        "id": "qP0HsFdxxp3f",
        "outputId": "1e2d93d2-78f8-4a8c-d532-b5a02936843d"
      },
      "source": [
        "print(daily_mine_production)"
      ],
      "execution_count": null,
      "outputs": [
        {
          "output_type": "stream",
          "text": [
            "[50, 53, 47, 47, 48, 45, 0, 55, 48, 52, 53, 43, 50, 0, 51, 47, 52, 48, 47, 42, 0, 46, 49, 54, 46, 41, 48, 0, 46, 45, 46, 48, 51, 50, 0, 50, 46, 53, 46, 45, 49, 0, 53, 51, 47, 51, 47, 49, 0, 53, 51, 51, 53, 44, 52, 0, 48, 47, 52, 44, 52, 46, 0, 47, 49, 50, 52, 50, 50, 0, 47, 47, 43, 51, 47, 52, 0, 48, 50, 38, 50, 42, 52, 0, 54, 44, 48, 43, 44, 54, 0, 40, 46, 49, 50, 49, 52, 0, 45, 43, 51, 46, 50, 50, 0, 46, 47, 53, 47, 51, 51, 0, 47, 49, 46, 47, 48, 45, 0, 49, 51, 54, 46, 47, 48, 0, 47, 49, 46, 51, 49, 43, 0, 48, 47, 54, 54, 50, 52, 0, 50, 40, 53, 49, 50, 52, 0, 47, 49, 46, 41, 51, 42, 0, 52, 52, 48, 48, 50, 47, 0, 48, 32, 46, 54, 45, 50, 0, 50, 43, 50, 49, 44, 43, 0, 51, 44, 51, 45, 45, 51, 0, 45, 49, 44, 52, 42, 45, 0, 45, 51, 47, 52, 56, 50, 0, 44, 49, 45, 49, 48, 42, 0, 48, 49, 49, 52, 50, 45, 0, 51, 55, 49, 48, 53, 51, 0, 52, 53, 46, 49, 50, 51, 0, 49, 54, 47, 45, 44, 51, 0, 45, 44, 52, 48, 51, 48, 0, 48, 47, 50, 47, 49, 54, 0, 55, 48, 52, 50, 40, 43, 0, 48, 47, 56, 50, 44, 49, 0, 53, 45, 47, 49, 52, 48, 0, 49, 45, 52, 44, 50, 47, 0, 52, 51, 46, 47, 51, 49, 0, 47, 46, 46, 48, 53, 48, 0, 39, 53, 45, 49]\n"
          ],
          "name": "stdout"
        }
      ]
    },
    {
      "cell_type": "code",
      "metadata": {
        "colab": {
          "base_uri": "https://localhost:8080/"
        },
        "id": "VI8Z1_NA28fg",
        "outputId": "4e462a0b-1da3-4180-d7f5-e1d17aa0fcce"
      },
      "source": [
        "print(feed_from_stk)"
      ],
      "execution_count": null,
      "outputs": [
        {
          "output_type": "stream",
          "text": [
            "[0, 0, 0, 0, 0, 0, 0, 0, 0, 0, 0, 0, 0, 0, 0, 0, 0, 0, 0, 0, 0, 0, 0, 0, 0, 0, 0, 0, 0, 0, 0, 0, 0, 0, 0, 0, 0, 0, 0, 0, 0, 0, 0, 0, 0, 0, 0, 0, 0, 0, 0, 0, 0, 0, 0, 0, 0, 0, 0, 0, 0, 0, 0, 0, 0, 0, 0, 0, 0, 0, 0, 0, 0, 0, 0, 0, 0, 0, 0, 0, 0, 0, 0, 0, 0, 0, 0, 0, 0, 0, 0, 0, 0, 0, 0, 0, 0, 0, 0, 0, 0, 0, 0, 0, 0, 0, 0, 0, 0, 0, 0, 0, 0, 0, 0, 0, 0, 0, 0, 0, 0, 0, 0, 0, 0, 0, 0, 0, 0, 0, 0, 0, 0, 0, 0, 500, 0, 0, 0, 0, 0, 0, 0, 0, 0, 0, 0, 0, 0, 0, 500, 0, 0, 0, 0, 0, 0, 0, 0, 0, 0, 0, 0, 0, 0, 500, 0, 0, 0, 0, 0, 0, 0, 0, 0, 0, 0, 0, 0, 0, 0, 0, 500, 0, 0, 0, 0, 0, 0, 0, 0, 0, 0, 0, 0, 0, 0, 500, 0, 0, 0, 0, 0, 0, 0, 0, 0, 0, 0, 0, 0, 0, 0, 0, 0, 0, 0, 0, 0, 0, 0, 0, 0, 0, 0, 0, 0, 0, 0, 0, 0, 0, 0, 0, 0, 0, 0, 0, 0, 0, 0, 0, 500, 0, 0, 0, 0, 0, 0, 0, 0, 0, 0, 0, 0, 0, 0, 500, 0, 0, 0, 0, 0, 0, 0, 0, 0, 0, 0, 0, 0, 0, 0, 500, 0, 0, 0, 0, 0, 208, 37, 35, 35, 35, 35, 35, 15, 31, 42, 0, 0]\n"
          ],
          "name": "stdout"
        }
      ]
    },
    {
      "cell_type": "code",
      "metadata": {
        "colab": {
          "base_uri": "https://localhost:8080/"
        },
        "id": "GQYM9Wx25CBZ",
        "outputId": "fde39719-f796-4e3e-cf0f-ff1f7a6b3525"
      },
      "source": [
        "print(len(feed_from_stk))"
      ],
      "execution_count": null,
      "outputs": [
        {
          "output_type": "stream",
          "text": [
            "291\n"
          ],
          "name": "stdout"
        }
      ]
    },
    {
      "cell_type": "code",
      "metadata": {
        "colab": {
          "base_uri": "https://localhost:8080/"
        },
        "id": "uYZDYj4w5nG9",
        "outputId": "9468f5a7-ae67-4b2b-c5bd-887de0ea7537"
      },
      "source": [
        "print(stk1_volumes)\n",
        "# There are many similar consecutive numbers, I think is the loop that feed from the stk to\n",
        "# the silo, need to fix that later. Main focus is to write data back\n",
        "# into GS to compare real vs simulation and to present these results\n",
        "# to managers"
      ],
      "execution_count": null,
      "outputs": [
        {
          "output_type": "stream",
          "text": [
            "[0, 0, 0, 0, 0, 0, 0, 0, 0, 0, 0, 0, 0, 0, 0, 0, 0, 0, 0, 0, 0, 0, 0, 0, 0, 0, 0, 0, 0, 0, 0, 0, 0, 0, 0, 0, 0, 0, 0, 0, 0, 0, 0, 0, 0, 0, 0, 0, 0, 0, 0, 0, 0, 0, 0, 0, 0, 0, 0, 0, 0, 0, 0, 0, 0, 0, 0, 0, 0, 0, 0, 0, 0, 0, 0, 0, 0, 0, 0, 0, 0, 0, 0, 0, 0, 0, 0, 0, 0, 0, 0, 0, 0, 0, 0, 0, 0, 0, 0, 0, 0, 0, 0, 0, 0, 0, 0, 0, 0, 0, 0, 0, 0, 0, 0, 0, 0, 0, 0, 0, 22, 65, 101, 138, 176, 176, 213, 252, 288, 328, 367, 401, 401, 439, 476, 19, 62, 102, 143, 143, 183, 215, 257, 296, 336, 377, 377, 414, 453, 489, 21, 61, 94, 94, 135, 176, 214, 252, 292, 329, 329, 367, 392, 428, 471, 7, 47, 47, 87, 121, 161, 200, 235, 269, 269, 309, 344, 384, 420, 456, 496, 496, 32, 71, 106, 147, 180, 216, 216, 252, 292, 329, 370, 414, 454, 454, 489, 28, 64, 103, 141, 174, 174, 212, 212, 212, 212, 212, 212, 212, 212, 212, 212, 212, 212, 212, 212, 212, 212, 212, 212, 212, 212, 212, 212, 212, 212, 212, 212, 212, 212, 212, 212, 212, 240, 280, 318, 318, 356, 393, 433, 470, 9, 52, 52, 96, 134, 175, 215, 247, 281, 281, 319, 356, 400, 440, 475, 14, 14, 56, 92, 129, 168, 209, 247, 247, 286, 322, 363, 398, 438, 475, 475, 16, 56, 92, 129, 169, 208, 0, 0, 1, 2, 5, 12, 15, 0, 0, 0, 0, 0]\n"
          ],
          "name": "stdout"
        }
      ]
    },
    {
      "cell_type": "code",
      "metadata": {
        "colab": {
          "base_uri": "https://localhost:8080/"
        },
        "id": "Q2tgFoux7QMg",
        "outputId": "7b1b088a-7c92-4f8c-8eac-b8693ed11089"
      },
      "source": [
        "print(len(stk1_volumes))"
      ],
      "execution_count": null,
      "outputs": [
        {
          "output_type": "stream",
          "text": [
            "291\n"
          ],
          "name": "stdout"
        }
      ]
    },
    {
      "cell_type": "code",
      "metadata": {
        "colab": {
          "base_uri": "https://localhost:8080/"
        },
        "id": "_Luuh3LhtjBK",
        "outputId": "e88ca4a4-cf8f-40c2-bbd9-84283e1f7fc4"
      },
      "source": [
        "print(track_plant_status)"
      ],
      "execution_count": null,
      "outputs": [
        {
          "output_type": "stream",
          "text": [
            "['waiting', 'waiting', 'waiting', 'waiting', 'waiting', 'waiting', 'waiting', 'waiting', 'waiting', 'waiting', 'waiting', 'waiting', 'waiting', 'waiting', 'waiting', 'waiting', 'waiting', 'waiting', 'waiting', 'waiting', 'waiting', 'waiting', 'waiting', 'waiting', 'waiting', 'waiting', 'waiting', 'waiting', 'waiting', 'waiting', 'waiting', 'waiting', 'waiting', 'waiting', 'waiting', 'waiting', 'waiting', 'waiting', 'waiting', 'waiting', 'waiting', 'waiting', 'waiting', 'waiting', 'waiting', 'waiting', 'waiting', 'waiting', 'waiting', 'waiting', 'waiting', 'waiting', 'waiting', 'waiting', 'waiting', 'waiting', 'waiting', 'waiting', 'waiting', 'waiting', 'waiting', 'waiting', 'waiting', 'waiting', 'waiting', 'waiting', 'waiting', 'waiting', 'waiting', 'waiting', 'waiting', 'waiting', 'waiting', 'waiting', 'waiting', 'waiting', 'waiting', 'waiting', 'waiting', 'waiting', 'waiting', 'waiting', 'waiting', 'waiting', 'waiting', 'waiting', 'waiting', 'waiting', 'waiting', 'waiting', 'waiting', 'waiting', 'waiting', 'waiting', 'waiting', 'waiting', 'waiting', 'waiting', 'waiting', 'waiting', 'waiting', 'waiting', 'waiting', 'waiting', 'waiting', 'waiting', 'waiting', 'waiting', 'waiting', 'waiting', 'waiting', 'waiting', 'waiting', 'waiting', 'waiting', 'waiting', 'waiting', 'waiting', 'waiting', 'waiting', 'waiting', 'waiting', 'waiting', 'waiting', 'waiting', 'waiting', 'waiting', 'waiting', 'waiting', 'waiting', 'waiting', 'waiting', 'waiting', 'waiting', 'waiting', 'waiting', 'waiting', 'waiting', 'waiting', 'waiting', 'waiting', 'waiting', 'waiting', 'waiting', 'waiting', 'waiting', 'waiting', 'waiting', 'waiting', 'waiting', 'waiting', 'waiting', 'waiting', 'waiting', 'waiting', 'waiting', 'waiting', 'waiting', 'waiting', 'waiting', 'waiting', 'waiting', 'waiting', 'waiting', 'waiting', 'waiting', 'waiting', 'waiting', 'waiting', 'waiting', 'waiting', 'waiting', 'waiting', 'waiting', 'waiting', 'waiting', 'waiting', 'waiting', 'waiting', 'waiting', 'waiting', 'waiting', 'waiting', 'waiting', 'waiting', 'waiting', 'waiting', 'waiting', 'waiting', 'waiting', 'waiting', 'waiting', 'waiting', 'waiting', 'waiting', 'waiting', 'waiting', 'waiting', 'waiting', 'waiting', 'waiting', 'waiting', 'waiting', 'waiting', 'waiting', 'waiting', 'waiting', 'waiting', 'waiting', 'waiting', 'waiting', 'waiting', 'waiting', 'waiting', 'waiting', 'waiting', 'waiting', 'waiting', 'waiting', 'waiting', 'waiting', 'waiting', 'waiting', 'waiting', 'waiting', 'waiting', 'waiting', 'waiting', 'waiting', 'waiting', 'waiting', 'waiting', 'waiting', 'waiting', 'waiting', 'waiting', 'waiting', 'waiting', 'waiting', 'waiting', 'waiting', 'waiting', 'waiting', 'waiting', 'waiting', 'waiting', 'waiting', 'waiting', 'waiting', 'waiting', 'waiting', 'waiting', 'waiting', 'waiting', 'waiting', 'waiting', 'waiting', 'waiting', 'waiting', 'waiting', 'waiting', 'waiting', 'waiting', 'waiting', 'waiting', 'waiting', 'waiting', 'waiting', 'waiting', 'waiting', 'waiting', 'waiting', 'waiting', 'waiting', 'waiting', 'waiting', 'waiting', 'waiting', 'Operational_level', 'Operational_level', 'Operational_level', 'Operational_level', 'Operational_level', 'Operational_level', 'Operational_level', 'Operational_level', 'Operational_level', 'Operational_level', 'Operational_level', 'Operational_level', 'stopped']\n"
          ],
          "name": "stdout"
        }
      ]
    },
    {
      "cell_type": "code",
      "metadata": {
        "colab": {
          "base_uri": "https://localhost:8080/"
        },
        "id": "f3LyVcOctmDF",
        "outputId": "86cfd1a5-a99d-4bd7-cafd-f56e00b15630"
      },
      "source": [
        "print(silo_status)"
      ],
      "execution_count": null,
      "outputs": [
        {
          "output_type": "stream",
          "text": [
            "['empty', 'empty', 'empty', 'empty', 'empty', 'empty', 'empty', 'empty', 'empty', 'empty', 'empty', 'empty', 'empty', 'empty', 'empty', 'empty', 'empty', 'empty', 'empty', 'empty', 'empty', 'empty', 'empty', 'empty', 'empty', 'empty', 'empty', 'empty', 'empty', 'empty', 'empty', 'empty', 'empty', 'empty', 'empty', 'empty', 'empty', 'empty', 'empty', 'empty', 'empty', 'empty', 'empty', 'empty', 'empty', 'empty', 'empty', 'empty', 'empty', 'empty', 'empty', 'empty', 'empty', 'empty', 'empty', 'empty', 'empty', 'empty', 'empty', 'empty', 'empty', 'empty', 'empty', 'empty', 'empty', 'empty', 'empty', 'empty', 'empty', 'empty', 'empty', 'empty', 'empty', 'empty', 'empty', 'empty', 'empty', 'empty', 'empty', 'empty', 'empty', 'empty', 'empty', 'empty', 'empty', 'empty', 'empty', 'empty', 'empty', 'empty', 'empty', 'empty', 'empty', 'empty', 'empty', 'empty', 'empty', 'empty', 'empty', 'empty', 'empty', 'empty', 'empty', 'empty', 'empty', 'empty', 'empty', 'empty', 'empty', 'empty', 'empty', 'empty', 'empty', 'empty', 'empty', 'empty', 'empty', 'empty', 'empty', 'empty', 'empty', 'empty', 'empty', 'empty', 'empty', 'empty', 'empty', 'empty', 'empty', 'empty', 'empty', 'empty', 'empty', 'empty', 'empty', 'Operational level', 'Operational level', 'Operational level', 'Operational level', 'Operational level', 'Operational level', 'Operational level', 'Operational level', 'Operational level', 'Operational level', 'Operational level', 'low level', 'low level', 'low level', 'empty', 'Operational level', 'Operational level', 'Operational level', 'Operational level', 'Operational level', 'Operational level', 'Operational level', 'Operational level', 'Operational level', 'Operational level', 'Operational level', 'low level', 'low level', 'low level', 'empty', 'Operational level', 'Operational level', 'Operational level', 'Operational level', 'Operational level', 'Operational level', 'Operational level', 'Operational level', 'Operational level', 'Operational level', 'Operational level', 'low level', 'low level', 'low level', 'empty', 'empty', 'empty', 'Operational level', 'Operational level', 'Operational level', 'Operational level', 'Operational level', 'Operational level', 'Operational level', 'Operational level', 'Operational level', 'Operational level', 'Operational level', 'low level', 'low level', 'low level', 'empty', 'Operational level', 'Operational level', 'Operational level', 'Operational level', 'Operational level', 'Operational level', 'Operational level', 'Operational level', 'Operational level', 'Operational level', 'Operational level', 'low level', 'low level', 'low level', 'empty', 'empty', 'empty', 'empty', 'empty', 'empty', 'empty', 'empty', 'empty', 'empty', 'empty', 'empty', 'empty', 'empty', 'empty', 'empty', 'empty', 'empty', 'empty', 'empty', 'empty', 'empty', 'empty', 'empty', 'empty', 'empty', 'empty', 'empty', 'empty', 'empty', 'empty', 'Operational level', 'Operational level', 'Operational level', 'Operational level', 'Operational level', 'Operational level', 'Operational level', 'Operational level', 'Operational level', 'Operational level', 'Operational level', 'low level', 'low level', 'low level', 'empty', 'Operational level', 'Operational level', 'Operational level', 'Operational level', 'Operational level', 'Operational level', 'Operational level', 'Operational level', 'Operational level', 'Operational level', 'Operational level', 'low level', 'low level', 'low level', 'empty', 'empty', 'Operational level', 'Operational level', 'Operational level', 'Operational level', 'Operational level', 'Operational level', 'Operational level', 'Operational level', 'Operational level', 'Operational level', 'Operational level', 'Operational level', 'Operational level', 'Operational level', 'Operational level', 'Operational level', 'empty', 'empty']\n"
          ],
          "name": "stdout"
        }
      ]
    },
    {
      "cell_type": "code",
      "metadata": {
        "colab": {
          "base_uri": "https://localhost:8080/"
        },
        "id": "8B2-oi3jtpRe",
        "outputId": "63da5e17-e437-40a3-9a34-b5e7856cb786"
      },
      "source": [
        "print(track_silo_volume)"
      ],
      "execution_count": null,
      "outputs": [
        {
          "output_type": "stream",
          "text": [
            "[0, 0, 0, 0, 0, 0, 0, 0, 0, 0, 0, 0, 0, 0, 0, 0, 0, 0, 0, 0, 0, 0, 0, 0, 0, 0, 0, 0, 0, 0, 0, 0, 0, 0, 0, 0, 0, 0, 0, 0, 0, 0, 0, 0, 0, 0, 0, 0, 0, 0, 0, 0, 0, 0, 0, 0, 0, 0, 0, 0, 0, 0, 0, 0, 0, 0, 0, 0, 0, 0, 0, 0, 0, 0, 0, 0, 0, 0, 0, 0, 0, 0, 0, 0, 0, 0, 0, 0, 0, 0, 0, 0, 0, 0, 0, 0, 0, 0, 0, 0, 0, 0, 0, 0, 0, 0, 0, 0, 0, 0, 0, 0, 0, 0, 0, 0, 0, 0, 0, 0, 0, 0, 0, 0, 0, 0, 0, 0, 0, 0, 0, 0, 0, 0, 0, 465, 430, 395, 360, 325, 290, 255, 220, 185, 150, 115, 80, 45, 10, 0, 465, 430, 395, 360, 325, 290, 255, 220, 185, 150, 115, 80, 45, 10, 0, 465, 430, 395, 360, 325, 290, 255, 220, 185, 150, 115, 80, 45, 10, 0, 0, 0, 465, 430, 395, 360, 325, 290, 255, 220, 185, 150, 115, 80, 45, 10, 0, 465, 430, 395, 360, 325, 290, 255, 220, 185, 150, 115, 80, 45, 10, 0, 0, 0, 0, 0, 0, 0, 0, 0, 0, 0, 0, 0, 0, 0, 0, 0, 0, 0, 0, 0, 0, 0, 0, 0, 0, 0, 0, 0, 0, 0, 465, 430, 395, 360, 325, 290, 255, 220, 185, 150, 115, 80, 45, 10, 0, 465, 430, 395, 360, 325, 290, 255, 220, 185, 150, 115, 80, 45, 10, 0, 0, 465, 430, 395, 360, 325, 290, 463, 465, 465, 465, 465, 465, 465, 445, 441, 448, 0, 0]\n"
          ],
          "name": "stdout"
        }
      ]
    },
    {
      "cell_type": "markdown",
      "metadata": {
        "id": "7elrhWdksVoR"
      },
      "source": [
        "# Results\n",
        "\n",
        "Once the simulation ends running, let's write the results back to Google Sheets in order to communicate and to store the results for comparations. The link to the spreadsheet where the results are stored is [here](https://docs.google.com/spreadsheets/d/1KndJwDmBGuw89QUCqFEAzy1C0VIeTwVkzSZ4yOoOieQ/edit?usp=sharing)\n",
        "\n"
      ]
    },
    {
      "cell_type": "code",
      "metadata": {
        "id": "Ptux16Xh3Uhs"
      },
      "source": [
        "from google.colab import auth\n",
        "auth.authenticate_user()\n",
        "\n",
        "import gspread\n",
        "from oauth2client.client import GoogleCredentials\n",
        "\n",
        "gc = gspread.authorize(GoogleCredentials.get_application_default())\n",
        "\n",
        "worksheet = gc.open('Results').sheet1"
      ],
      "execution_count": null,
      "outputs": []
    },
    {
      "cell_type": "code",
      "metadata": {
        "id": "lqB7OlO4cjuh"
      },
      "source": [
        "obs = []"
      ],
      "execution_count": null,
      "outputs": []
    },
    {
      "cell_type": "code",
      "metadata": {
        "id": "Cb6oi2wnclyp"
      },
      "source": [
        "obs.append(ob_volumes)"
      ],
      "execution_count": null,
      "outputs": []
    },
    {
      "cell_type": "code",
      "metadata": {
        "id": "fLBMlKzvdpQi"
      },
      "source": [
        "for j in range(len(obs)):\n",
        "  for i in range(len(obs[0])):\n",
        "    worksheet.update_cell(i+2, j+1, (obs[j][i]))"
      ],
      "execution_count": null,
      "outputs": []
    },
    {
      "cell_type": "code",
      "metadata": {
        "id": "q3dxVf49qq8K"
      },
      "source": [
        "s1_ev = [seam1_volumes]"
      ],
      "execution_count": null,
      "outputs": []
    },
    {
      "cell_type": "code",
      "metadata": {
        "id": "ejW5aSB0q2Lr"
      },
      "source": [
        "s2_ev = [seam2_volumes]"
      ],
      "execution_count": null,
      "outputs": []
    },
    {
      "cell_type": "code",
      "metadata": {
        "id": "i6ELrwKeq6B3"
      },
      "source": [
        "s3_ev = [seam3_volumes]"
      ],
      "execution_count": null,
      "outputs": []
    },
    {
      "cell_type": "code",
      "metadata": {
        "id": "aWRQPCd0t9xm"
      },
      "source": [
        "stk_ev = [stk1_volumes]"
      ],
      "execution_count": null,
      "outputs": []
    },
    {
      "cell_type": "code",
      "metadata": {
        "id": "GoYBRStgrArG"
      },
      "source": [
        "for j in range(len(s1_ev)):\n",
        "  for i in range(len(s1_ev[0])):\n",
        "    worksheet.update_cell(i+2, j+2, (s1_ev[j][i]))"
      ],
      "execution_count": null,
      "outputs": []
    },
    {
      "cell_type": "code",
      "metadata": {
        "id": "V4jgzHonrW5l"
      },
      "source": [
        "for j in range(len(s2_ev)):\n",
        "  for i in range(len(s2_ev[0])):\n",
        "    worksheet.update_cell(i+2, j+3, (s2_ev[j][i]))"
      ],
      "execution_count": null,
      "outputs": []
    },
    {
      "cell_type": "code",
      "metadata": {
        "id": "-3c7By2YsSS5"
      },
      "source": [
        "for j in range(len(s3_ev)):\n",
        "  for i in range(len(s3_ev[0])):\n",
        "    worksheet.update_cell(i+2, j+4, (s3_ev[j][i]))"
      ],
      "execution_count": null,
      "outputs": []
    },
    {
      "cell_type": "code",
      "metadata": {
        "id": "HuntUvXQuBvH"
      },
      "source": [
        "for j in range(len(stk_ev)):\n",
        "  for i in range(len(stk_ev[0])):\n",
        "    worksheet.update_cell(i+2, j+5, (stk_ev[j][i]))"
      ],
      "execution_count": null,
      "outputs": []
    }
  ]
}